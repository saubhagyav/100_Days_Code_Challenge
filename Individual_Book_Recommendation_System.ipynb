{
  "nbformat": 4,
  "nbformat_minor": 0,
  "metadata": {
    "colab": {
      "name": "Individual_Book_Recommendation_System.ipynb",
      "provenance": [],
      "collapsed_sections": [],
      "mount_file_id": "10WCWHUDj6MJYI9E26eqZsr6yXjNx-OnD",
      "authorship_tag": "ABX9TyOMkDTthnsakaPMMbqSFBJc",
      "include_colab_link": true
    },
    "kernelspec": {
      "name": "python3",
      "display_name": "Python 3"
    },
    "language_info": {
      "name": "python"
    },
    "widgets": {
      "application/vnd.jupyter.widget-state+json": {
        "a0a32a92c96749f48c829c2282ee11dc": {
          "model_module": "@jupyter-widgets/controls",
          "model_name": "VBoxModel",
          "model_module_version": "1.5.0",
          "state": {
            "_view_name": "VBoxView",
            "_dom_classes": [
              "widget-interact"
            ],
            "_model_name": "VBoxModel",
            "_view_module": "@jupyter-widgets/controls",
            "_model_module_version": "1.5.0",
            "_view_count": null,
            "_view_module_version": "1.5.0",
            "box_style": "",
            "layout": "IPY_MODEL_2788776111aa4c2bab9d2bfb2ba47150",
            "_model_module": "@jupyter-widgets/controls",
            "children": [
              "IPY_MODEL_9a9ba9c9806b4b82be3fb5d00e519355",
              "IPY_MODEL_3376b55ca1bd4d62a30c4c281b0c013d"
            ]
          }
        },
        "2788776111aa4c2bab9d2bfb2ba47150": {
          "model_module": "@jupyter-widgets/base",
          "model_name": "LayoutModel",
          "model_module_version": "1.2.0",
          "state": {
            "_view_name": "LayoutView",
            "grid_template_rows": null,
            "right": null,
            "justify_content": null,
            "_view_module": "@jupyter-widgets/base",
            "overflow": null,
            "_model_module_version": "1.2.0",
            "_view_count": null,
            "flex_flow": null,
            "width": null,
            "min_width": null,
            "border": null,
            "align_items": null,
            "bottom": null,
            "_model_module": "@jupyter-widgets/base",
            "top": null,
            "grid_column": null,
            "overflow_y": null,
            "overflow_x": null,
            "grid_auto_flow": null,
            "grid_area": null,
            "grid_template_columns": null,
            "flex": null,
            "_model_name": "LayoutModel",
            "justify_items": null,
            "grid_row": null,
            "max_height": null,
            "align_content": null,
            "visibility": null,
            "align_self": null,
            "height": null,
            "min_height": null,
            "padding": null,
            "grid_auto_rows": null,
            "grid_gap": null,
            "max_width": null,
            "order": null,
            "_view_module_version": "1.2.0",
            "grid_template_areas": null,
            "object_position": null,
            "object_fit": null,
            "grid_auto_columns": null,
            "margin": null,
            "display": null,
            "left": null
          }
        },
        "9a9ba9c9806b4b82be3fb5d00e519355": {
          "model_module": "@jupyter-widgets/controls",
          "model_name": "DropdownModel",
          "model_module_version": "1.5.0",
          "state": {
            "_options_labels": [
              "Ballantine Books",
              "Pocket",
              "Berkley Publishing Group",
              "Bantam",
              "Warner Books",
              "Signet Book",
              "Jove Books",
              "Bantam Books",
              "Perennial",
              "Dell",
              "Avon",
              "Penguin Books",
              "HarperTorch",
              "Dell Publishing Company",
              "Little, Brown",
              "Vintage Books USA",
              "Scholastic",
              "Del Rey Books",
              "Fawcett Books",
              "Scribner",
              "St. Martin's Press",
              "HarperCollins",
              "Anchor",
              "Doubleday",
              "Viking Books",
              "Plume Books",
              "St. Martin's Paperbacks",
              "Warner Vision",
              "HarperTrophy",
              "Del Rey",
              "Vintage",
              "Putnam Publishing Group",
              "Ace Books",
              "Back Bay Books",
              "Andrews McMeel Publishing",
              "Silhouette",
              "Simon &amp; Schuster",
              "Tor Books",
              "Washington Square Press",
              "Mira",
              "Tyndale House Publishers",
              "Delacorte Press",
              "Alfred A. Knopf",
              "Delta",
              "Hyperion",
              "Ivy Books",
              "Riverhead Books",
              "Doubleday Books",
              "Harvest Books",
              "Health Communications",
              "Regan Books",
              "Random House",
              "Putnam Pub Group",
              "Random House Inc",
              "Touchstone",
              "Pocket Star",
              "Daw Books",
              "Avon Books",
              "Pocket Books",
              "Dutton Books",
              "Anchor Books/Doubleday",
              "Knopf",
              "Broadway Books",
              "Houghton Mifflin Company",
              "Tor Fantasy",
              "Laure Leaf",
              "New Amer Library",
              "Eos",
              "Penguin USA",
              "ACE Charter",
              "Yearling",
              "Atria",
              "Picador USA",
              "Harlequin",
              "HarperCollins Publishers",
              "Red Dress Ink",
              "Roc",
              "Harcourt",
              "G. P. Putnam's Sons",
              "Grove Press",
              "Bantam Classics",
              "Harpercollins",
              "Picador",
              "St. Martin's Griffin",
              "Penguin Books Ltd",
              "Chronicle Books",
              "Puffin Books",
              "Penguin USA (Paper)",
              "Broadway",
              "Vintage Books",
              "Yearling Books",
              "Little Brown &amp; Company",
              "Leisure Books",
              "Arthur A. Levine Books",
              "William Morrow &amp; Company",
              "Bantam Dell Pub Group",
              "Spectra Books",
              "Avon Trade",
              "Simon Pulse",
              "New American Library",
              "Too Far",
              "Island",
              "Love Spell",
              "Penguin Putnam~mass",
              "William Morrow",
              "Random House Books for Young Readers",
              "Onyx Books",
              "Workman Publishing",
              "Miramax Kids",
              "Random House Trade",
              "Llewellyn Publications",
              "DC Comics",
              "Random House Children's Books",
              "Bantam Dell Publishing Group",
              "Fawcett",
              "W. W. Norton &amp; Company",
              "Plume",
              "Villard Books",
              "Spectra",
              "Bantam Doubleday Dell",
              "Laurel Leaf",
              "Mira Books",
              "NTC/Contemporary Publishing Company",
              "Free Press",
              "Pantheon Books",
              "Little Brown &amp; Co",
              "Wizards of the Coast",
              "Prentice Hall (K-12)",
              "Signet Classics",
              "Little Brown and Company",
              "Owl Books",
              "Star Trek",
              "Random House Audio",
              "Three Rivers Press",
              "Hyperion Press",
              "Perigee Trade",
              "Atria Books",
              "Penguin Putnam",
              "Harper Mass Market Paperbacks (Mm)",
              "MacMillan Publishing Company.",
              "Scholastic Paperbacks",
              "Knopf Books for Young Readers",
              "Signet",
              "HarperSanFrancisco",
              "Nan A. Talese",
              "Warner Forever",
              "Villard",
              "Black Swan",
              "Henry Holt &amp; Company",
              "Not Avail",
              "Baen",
              "Zebra Books",
              "Farrar, Straus and Giroux",
              "Delacorte Books for Young Readers",
              "Dover Publications",
              "Crimeline",
              "Random House Trade Paperbacks",
              "Fireside",
              "John Wiley &amp; Sons Inc",
              "McGraw-Hill",
              "Farrar Straus &amp; Giroux",
              "Houghton Mifflin",
              "Aladdin",
              "Downtown Press",
              "Farrar Straus Giroux",
              "Pinnacle Books",
              "Replica Books",
              "Sagebrush Bound",
              "Dial Books",
              "W.W. Norton &amp; Company",
              "Pub Group West",
              "Crown",
              "St Martins Pr",
              "Jove Pubns",
              "MacAdam/Cage Publishing",
              "Distribooks Inc",
              "Multnomah",
              "Starfire",
              "Thomas Nelson",
              "Kensington Publishing Corporation",
              "Laurel",
              "Miramax",
              "HarperTempest",
              "Quill",
              "Trafalgar Square",
              "Warner Books Inc",
              "Gotham Books",
              "Workman Pub Co",
              "Delta Trade Paperbacks",
              "Time Warner Audio Major",
              "Scholastic Point",
              "Houghton Mifflin Co",
              "BRAVA",
              "Harpercollins Juvenile Books",
              "Pantheon",
              "Atlantic Monthly Press",
              "TSR",
              "Putnam Adult",
              "Picador (UK)",
              "Amber-Allen Publishing",
              "New Amer Library Classics",
              "TokyoPop",
              "Putnam Pub Group (Paper)",
              "Hyperion Books",
              "HarperBusiness",
              "Firefly Books Ltd",
              "Perennial Currents",
              "Orb Books",
              "Random House Audio Publishing Group",
              "MTV",
              "Zondervan Publishing Company",
              "Random House Value Pub",
              "Del Sol Press",
              "Simon Spotlight Entertainment",
              "Scribner Paper Fiction",
              "Oxford University Press",
              "Grosset &amp; Dunlap",
              "ReganBooks",
              "Harper Mass Market Paperbacks",
              "Smithmark Pub",
              "HarperAudio",
              "Ten Speed Press",
              "Carlsen Verlag GmbH",
              "Tor Science Fiction",
              "Dtv",
              "Bethany House Publishers",
              "Riverhead Hardcover",
              "Ecco",
              "Donald M. Grant/Scribner",
              "Audioworks",
              "Rodale Books",
              "Shambhala",
              "Thomas Dunne Books",
              "Distribooks",
              "Goldmann",
              "Crossway Books",
              "LGF",
              "Anchor (UK)",
              "Methuen Publishing Ltd",
              "HCI",
              "Metropolitan Books",
              "Anchor Pub",
              "LÃ?Â¼bbe",
              "Speak",
              "Mandarin",
              "Rayo",
              "Dell Publishing",
              "Farrar, Straus and Giroux (BYR)",
              "Troll Communications",
              "Gallimard Jeunesse",
              "Lectorum Publications",
              "Warner Books (Mm)",
              "Penguin Putnam Books for Young Readers",
              "STRAPLESS",
              "Jeremy P. Tarcher",
              "New World Library",
              "J'ai lu",
              "Andrews McMeel Pub",
              "Sagebrush Education Resources",
              "Berkley Pub Group",
              "Candlewick Press (MA)",
              "Harpercollins Childrens Books",
              "Harper SanFrancisco",
              "Random House Value Publishing",
              "Tor Books (Mm)",
              "Beacon Press",
              "Algonquin Books of Chapel Hill",
              "Aladdin Library",
              "Brilliance Audio",
              "Diogenes Verlag",
              "Punto de Lectura",
              "Plaza &amp; Janes Editores, S.A.",
              "Harmony",
              "Meredith Books",
              "Running Press Book Publishers",
              "Starscape Books",
              "St. Martin's Minotaur",
              "Laurel-Leaf Books",
              "Anagrama",
              "Mysterious Press",
              "Zebra Books (Mass Market)",
              "Penguin Putnam~trade",
              "Heyne",
              "Point Fantasy",
              "HCI Teens",
              "Conari Press",
              "Talk Miramax Books",
              "Sasquatch Books",
              "Minotauro",
              "Perennial Classics",
              "Harpertorch",
              "Owl Books (NY)",
              "Bonanza Books",
              "Paulist Press",
              "Simon &amp; Schuster Audio",
              "Topaz",
              "Owl Publishing Company",
              "Magic Carpet Books",
              "Walker &amp; Company",
              "New Directions Publishing Corporation",
              "Bloomsbury USA",
              "Thomas Nelson Inc",
              "Macmillan",
              "Viking Juvenile",
              "Plough Publishing House",
              "Tokyopop",
              "Random House Childrens Books",
              "Learning Curve",
              "Profile Books Ltd",
              "Mariner Books",
              "Scholastic Paperbacks (T)",
              "Love Spell/Dorchester Pub. Co.",
              "Forge",
              "Audio Literature",
              "Highbridge Audio",
              "Bridge Publications",
              "Prairie Valley Films-Literary Division",
              "W W Norton &amp; Co Inc",
              "Living Books",
              "Fulcrum Publishing",
              "Outlet Books Company",
              "Schocken Books",
              "Cliff Street Books",
              "Crown Publishers",
              "Albin Michel",
              "Perigee Books",
              "Spike",
              "Douglas &amp; McIntyre",
              "Viking Penguin Inc",
              "Barbour Publishing",
              "Editions J'Ai Lu",
              "Soho Press",
              "Bantam Doubleday Dell Publishing Group",
              "Consumer Reports Books",
              "Gallimard",
              "Recorded Books",
              "Penguin Putnam~childrens Hc",
              "Waterbrook Press",
              "Three Rivers Press (CA)",
              "Pan Macmillan",
              "Overlook Press",
              "Luna",
              "Henry Holt &amp; Co",
              "Perseus Publishing",
              "Corgi",
              "Random House Childrens Pub",
              "Crown Publishing Group (NY)",
              "Self-Realization Fellowship Publishers",
              "Planeta",
              "Castle Books",
              "Macmillan Pub Ltd",
              "Apple Classics (Scholastic)",
              "Natl Book Network",
              "University of New Mexico Press",
              "Consortium",
              "Inventeam Llc",
              "Silhouette Books",
              "Greenwillow",
              "Harcourt Paperbacks",
              "Gramercy",
              "Random House~trade",
              "Tusquets Editores",
              "MJF Books",
              "Fantagraphics Books",
              "Papier-Mache Press",
              "Fanfare",
              "Henry Holt and Co.",
              "Aspect",
              "University of California Press",
              "Simon &amp; Schuster Children's Publishing",
              "Seven Stories Press",
              "Perseus Books Group",
              "HarperEntertainment",
              "Union gÃ©nÃ©rale d'Ã©ditions",
              "I B S Books Stocked",
              "Diogenes Verlag AG",
              "Harvest House Publishers",
              "Planeta Pub Corp",
              "Seal Press (WA)",
              "Behrman House Publishing",
              "Gramercy Books",
              "Aufbau Tb",
              "Lb May &amp; Assoc Inc",
              "Dorset Press",
              "Modern Library",
              "Pearson Higher Education",
              "Pomegranate Communications",
              "Ediciones Urano",
              "Scholastic Paperbacks (Mm)",
              "Random House~childrens",
              "Pan Publishing",
              "Laura Geringer",
              "Western Publishing Company",
              "Tor Classics",
              "Portable Publishing",
              "Black Swan Books, Limited",
              "Golden Books Publishing Company",
              "Chicken House",
              "Scholastic Inc",
              "McClelland &amp; Stewart Ltd",
              "Bantam Doubleday Dell Pub (Trd)",
              "Suma de Letras",
              "St Martins Press",
              "Perennial (HarperCollins)",
              "Baen Books",
              "Berkley Hardcover",
              "City Lights Publishers",
              "Rutledge Hill Press",
              "Merriam-Webster",
              "Orion",
              "City Miner Books",
              "Adams Media Corporation",
              "DaCapo Press",
              "Livre de poche",
              "VIZ LLC",
              "Albert Whitman &amp; Company",
              "Editions 10/18",
              "Plume Plume",
              "Pocket (FR)",
              "Little Apple",
              "Abbeville Press",
              "Arrow",
              "L.A. Weekly Books",
              "Prime Crime",
              "Celestial Arts",
              "Mage Publishers",
              "Macmillan Pub. Co",
              "New Amer Library (Mm)",
              "Independent Pub Group",
              "Berkley",
              "Xlibris Corporation",
              "Canongate Books",
              "Crown Publishing Group",
              "Dargaud",
              "Firebird",
              "Bloomsbury Publishing PLC",
              "North Point Press",
              "Judy Piatkus Publishers Ltd",
              "Audio Renaissance",
              "Meisha Merlin Pub",
              "Actes Sud",
              "Writer's Showcase Press",
              "Forge Books",
              "Da Capo Press",
              "Grove/Atlantic",
              "Harcourt Inc",
              "Gulliver Books Paperbacks",
              "Dutton Adult",
              "Simon &amp; Schuster (Trade Division)",
              "Virago Press (UK)",
              "Distributors",
              "Putnam Berkley Audio",
              "Distributed by Random House",
              "Tor Teen",
              "Scott Foresman (Pearson K-12)",
              "Dorchester Publishing Company",
              "Penguin Highbridge Audio",
              "Warner Books> C/o Little Br",
              "Barnes &amp; Noble",
              "Skylark",
              "Pan Books in association with Secker &amp; Warburg",
              "WestBow Press",
              "Philomel Books",
              "Bantam Books-Audio",
              "Penguin/Puffin Mass Market (Mm)",
              "Harcourt Children's Books",
              "Listening Library",
              "Harry N Abrams",
              "Ticknor &amp; Fields",
              "New Millennium Audio",
              "Subterranean Press",
              "Warner Futura",
              "Faber &amp; Faber Ltd",
              "Princess Books",
              "Barnes Noble Books",
              "Lion Publishing Corporation",
              "Fine Communications",
              "Barnes &amp; Noble Books-Imports",
              "Random Library",
              "Stoddart+publishing",
              "Scarlet (UK)",
              "Poisoned Pen Press",
              "Gold Leaf Press (MI)",
              "Medallion Press",
              "HarperCollins Entertainment",
              "Minerva",
              "Time Warner Audiobooks",
              "Spring Arbor Distributors",
              "Creation House",
              "TSR Hobbies",
              "Large Print Press",
              "Simon &amp; Schuster Books",
              "MacMillan",
              "Bookthrift Co",
              "M. Evans and Company",
              "Sunburst",
              "Harper Collins - UK",
              "Orion Publishing Co",
              "Random House Large Print Publishing",
              "Random House, Inc.",
              "Arcade Publishing",
              "Facts on File",
              "Windsor Peak Press",
              "Airmont Pub Co",
              "John Wiley &amp; Sons",
              "Golden Books",
              "Harvill Press",
              "Windsor-Brooke Books",
              "Running Pr",
              "Thorndike Press",
              "M Evans &amp; Co",
              "HarperFestival",
              "John Edward (HAYLO)",
              "HarperLargePrint",
              "Black Sparrow Books",
              "Skoob Books Pub Ltd",
              "Griffin Trade Paperback",
              "Viz Communications",
              "Hoffmann &amp; Campe",
              "Price Stern Sloan Pub (J)",
              "Peter Bedrick Books",
              "New Amer Library Classics (Mm)",
              "DenoÃ?Â«l",
              "Scholastic Inc.",
              "Shaye Areheart Books",
              "Applause Theatre &amp; Cinema Book Publishers",
              "Sourcebooks",
              "Media Books Audio Publishing",
              "David R. Godine Publisher",
              "For Dummies",
              "Buccaneer Books Inc",
              "Prentice Hall",
              "Books on Tape",
              "Random House Large Print",
              "HarperCollins (UK)",
              "Everyman's Library Ltd",
              "Ediciones Catedra S.A.",
              "Orchard Books (NY)",
              "McArthur &amp; Company",
              "Diamond/Charter",
              "Naiad Press",
              "William Heinemann",
              "Pan Books",
              "Kensington Publishing Corp",
              "Acacia Press, Inc.",
              "Five Star (ME)",
              "Heinemann",
              "Red Deer Press",
              "Atheneum/Richard Jackson Books",
              "Berkely Prime Crime",
              "GuildAmerica Books",
              "Michael Neugebauer Book",
              "Bt Bound",
              "W Publishing Group",
              "Doubleday Books for Young Readers",
              "Viking Press",
              "Ediciones Alfaguara, S.A.",
              "Ediciones B",
              "Longstreet Press",
              "Worldwide Library",
              "Holiday House",
              "Allen &amp; Unwin",
              "Carroll &amp; Graf Publishers",
              "McSweeney's Books",
              "Bantam Books for Young Readers",
              "Pan",
              "Simon Schuster Trade",
              "Atheneum/Anne Schwartz Books",
              "Random House Uk Ltd",
              "Baker Pub Group",
              "Van Nostrand Reinhold",
              "Abacus (UK)",
              "Tantor Media",
              "McGraw-Hill Humanities/Social Sciences/Languages",
              "Scribner Book Company",
              "Turtleback Books Distributed by Demco Media",
              "Heyday Books",
              "Penguin Audiobooks",
              "Perennial Dark Alley",
              "Pinnacle Books (Mm)",
              "Michael Joseph",
              "Bantam Pr Ltd",
              "Pages Publishing Group",
              "Dh Audio",
              "Hazelden Publishing &amp; Educational Services",
              "Joanna Cotler",
              "Harper Children's Audio",
              "Scholastic Press",
              "Encore",
              "Hodder &amp; Stoughton Ltd",
              "Barbour Pub Inc",
              "Goose Lane Editions",
              "Tqs Pubns",
              "Turtle Bay Books",
              "House of Stratus",
              "Kensington Pub Corp (Mm)",
              "Secker &amp; Warburg",
              "Zondervan",
              "Ideal Foreign Books",
              "C.R. Gibson Company",
              "Four Walls Eight Windows",
              "Black Sparrow Press",
              "Pocket Books (Mm)",
              "Dove Books",
              "Saddleback Publishing, Inc.",
              "Sterling Publishing",
              "Sterling Pub Co Inc",
              "Routledge",
              "Random House (P)",
              "Overmountain Press",
              "Nathan Jeunesse",
              "Dove Books Audio",
              "Thomson Learning",
              "Aunt Lute Books",
              "Ravette Publishing Ltd",
              "Hackett Pub Co Inc",
              "Holt Rinehart and Winston",
              "Athenum",
              "Bantam Doubleday Dell Pub",
              "Diamond Comic Distributors",
              "BBC Consumer Publishing",
              "Univ of Toronto Pr",
              "Springer-Verlag",
              "St. Martin's True Crime",
              "Soundelux Audio Publishing",
              "Booklocker.com",
              "Worth Publishers",
              "Dragonfly Books",
              "Kingfisher",
              "Routledge Kegan &amp; Paul",
              "Unicorn Pub House",
              "Sceptre",
              "Knopf Canada",
              "Triad/Panther",
              "Lightyear Press",
              "Editorial Grijalbo, S.A. de C.V.",
              "Hippocrene Books",
              "Harpercollins Publisher",
              "Norma",
              "Raincoast Book Dist Ltd",
              "Thunder's Mouth Press",
              "Allyn &amp; Bacon",
              "Simon &amp; Schuster Mass Market",
              "Consortium Book Sales &amp; Dist",
              "Macmillan Children's Books",
              "John Murray General Publishing Division",
              "Univ of California Pr",
              "Robert Laffont",
              "Audio Partners",
              "Ideals Publications",
              "Livre De Poche French",
              "Periwinkle Pr",
              "Main Street Books",
              "Tormont Publications",
              "Contemporary French Fiction",
              "Isis Audio Books",
              "Salamandra",
              "Madison Books",
              "Bertelsmann, MÃ?Â¼nchen",
              "Vergara Editor S.A.",
              "Seuil",
              "Chivers Large Print",
              "Poseidon Press",
              "HarperCollins Children's Books",
              "Harmony Books",
              "Scholastic School Market Edition",
              "Puffin / Scholastic",
              "Little Brown UK Ltd",
              "Headline",
              "Thistledown Press",
              "Media Books",
              "University of Queensland Pr (Australia)",
              "Reader's Digest Association",
              "Facts on File Inc",
              "Dial Press",
              "One World",
              "Lectorum Pubns",
              "Headway Books",
              "Sudamericana",
              "Galaxy Press",
              "Unwin Hyman",
              "Phoenix Audio",
              "Paperback Nova Audio",
              "Sepia",
              "New Canadian Library",
              "Transworld Publishers Ltd",
              "HighBridge Audio",
              "Harper &amp; Row",
              "McGraw-Hill College",
              "Avons Books",
              "Wildside Press",
              "Canongate Books Ltd",
              "Trans-Atlantic Publications",
              "Hodder &amp; Stoughton General Division",
              "Signet Books",
              "The Harvill Press",
              "Newmarket Press",
              "Bantam Books (Mm)",
              "Stenhouse Publishers",
              "HarperChildrensAudio",
              "Evans, M. Co",
              "Calder Publications",
              "Scholastic Library Pub",
              "Continental Book Co",
              "ISIS Publishing",
              "Harcourt Childrens Books",
              "Summit Books",
              "Bloomsbury Publishing Plc",
              "Skylark Books",
              "The Women's Press",
              "Louisiana State University Press",
              "Time Warner Books UK",
              "Mary Book / Prelude Pr",
              "Publishamerica",
              "DELL",
              "Time Warner AudioBooks",
              "Bloomsbury",
              "Arbor House Pub Co",
              "Arabesque",
              "Modern Publishing",
              "Assouline",
              "E.P. Dutton",
              "Titan Books",
              "Viking Children's",
              "New Millennium Press",
              "Havill Pr",
              "Eos (HarperCollins)",
              "Barnes &amp; Noble Books",
              "North-South Books",
              "Rivages",
              "Jameson Books",
              "Price Stern Sloan",
              "Educational Development Corporation",
              "Chronicle Books Llc",
              "Farra, Straus &amp; Giroux, Inc.",
              "Hodder Children's Books",
              "Random House Audible",
              "Bantam Audio Publishing",
              "DH Audio",
              "Lerner Pub Group",
              "Diogenes",
              "Margaret K. McElderry",
              "Benedict Lust Publications",
              "Harlequin Books",
              "Barnes Noble Classics",
              "Ace",
              "Dark Horse Comics",
              "Nick Hern Books",
              "Ladybird Books",
              "W H Freeman &amp; Co",
              "Satori Press",
              "Vehicule Press",
              "Horizon Book Promotions",
              "Porcepic Books",
              "Publishing Mills",
              "IndyPublish.com",
              "Derrydale",
              "Amer Guidance Service"
            ],
            "_view_name": "DropdownView",
            "style": "IPY_MODEL_dfd630440513423889807a957ee255fd",
            "_dom_classes": [],
            "description": "publishers",
            "_model_name": "DropdownModel",
            "index": 0,
            "_view_module": "@jupyter-widgets/controls",
            "_model_module_version": "1.5.0",
            "_view_count": null,
            "disabled": false,
            "_view_module_version": "1.5.0",
            "description_tooltip": null,
            "_model_module": "@jupyter-widgets/controls",
            "layout": "IPY_MODEL_968f9c40613049bd84db0d83d8ce26c0"
          }
        },
        "3376b55ca1bd4d62a30c4c281b0c013d": {
          "model_module": "@jupyter-widgets/output",
          "model_name": "OutputModel",
          "model_module_version": "1.0.0",
          "state": {
            "_view_name": "OutputView",
            "msg_id": "",
            "_dom_classes": [],
            "_model_name": "OutputModel",
            "outputs": [
              {
                "output_type": "display_data",
                "data": {
                  "text/html": "<div>\n<style scoped>\n    .dataframe tbody tr th:only-of-type {\n        vertical-align: middle;\n    }\n\n    .dataframe tbody tr th {\n        vertical-align: top;\n    }\n\n    .dataframe thead th {\n        text-align: right;\n    }\n</style>\n<table border=\"1\" class=\"dataframe\">\n  <thead>\n    <tr style=\"text-align: right;\">\n      <th></th>\n      <th>Rating-Mean</th>\n    </tr>\n    <tr>\n      <th>Book-Title</th>\n      <th></th>\n    </tr>\n  </thead>\n  <tbody>\n    <tr>\n      <th>The Sinner</th>\n      <td>9.50</td>\n    </tr>\n    <tr>\n      <th>The Hobbit</th>\n      <td>9.42</td>\n    </tr>\n    <tr>\n      <th>The Fellowship of the Ring (Lord of the Rings (Paperback))</th>\n      <td>9.33</td>\n    </tr>\n    <tr>\n      <th>Seabiscuit: An American Legend</th>\n      <td>9.22</td>\n    </tr>\n    <tr>\n      <th>The Return of the King (Lord of the Rings (Paperback))</th>\n      <td>9.17</td>\n    </tr>\n    <tr>\n      <th>The Cobra Event</th>\n      <td>9.08</td>\n    </tr>\n    <tr>\n      <th>Summer Moon</th>\n      <td>9.00</td>\n    </tr>\n    <tr>\n      <th>The Princess Bride: S. Morgenstern's Classic Tale of True Love and High Adventure (Ballantine Reader's Circle)</th>\n      <td>9.00</td>\n    </tr>\n    <tr>\n      <th>Until Dark</th>\n      <td>9.00</td>\n    </tr>\n    <tr>\n      <th>A Sand County Almanac (Outdoor Essays &amp;amp; Reflections)</th>\n      <td>9.00</td>\n    </tr>\n  </tbody>\n</table>\n</div>",
                  "text/plain": "                                                    Rating-Mean\nBook-Title                                                     \nThe Sinner                                                 9.50\nThe Hobbit                                                 9.42\nThe Fellowship of the Ring (Lord of the Rings (...         9.33\nSeabiscuit: An American Legend                             9.22\nThe Return of the King (Lord of the Rings (Pape...         9.17\nThe Cobra Event                                            9.08\nSummer Moon                                                9.00\nThe Princess Bride: S. Morgenstern's Classic Ta...         9.00\nUntil Dark                                                 9.00\nA Sand County Almanac (Outdoor Essays &amp; Ref...         9.00"
                },
                "metadata": {}
              }
            ],
            "_view_module": "@jupyter-widgets/output",
            "_model_module_version": "1.0.0",
            "_view_count": null,
            "_view_module_version": "1.0.0",
            "layout": "IPY_MODEL_f0a350b26c2a46f98f8a5f59c4d4ae52",
            "_model_module": "@jupyter-widgets/output"
          }
        },
        "dfd630440513423889807a957ee255fd": {
          "model_module": "@jupyter-widgets/controls",
          "model_name": "DescriptionStyleModel",
          "model_module_version": "1.5.0",
          "state": {
            "_view_name": "StyleView",
            "_model_name": "DescriptionStyleModel",
            "description_width": "",
            "_view_module": "@jupyter-widgets/base",
            "_model_module_version": "1.5.0",
            "_view_count": null,
            "_view_module_version": "1.2.0",
            "_model_module": "@jupyter-widgets/controls"
          }
        },
        "968f9c40613049bd84db0d83d8ce26c0": {
          "model_module": "@jupyter-widgets/base",
          "model_name": "LayoutModel",
          "model_module_version": "1.2.0",
          "state": {
            "_view_name": "LayoutView",
            "grid_template_rows": null,
            "right": null,
            "justify_content": null,
            "_view_module": "@jupyter-widgets/base",
            "overflow": null,
            "_model_module_version": "1.2.0",
            "_view_count": null,
            "flex_flow": null,
            "width": null,
            "min_width": null,
            "border": null,
            "align_items": null,
            "bottom": null,
            "_model_module": "@jupyter-widgets/base",
            "top": null,
            "grid_column": null,
            "overflow_y": null,
            "overflow_x": null,
            "grid_auto_flow": null,
            "grid_area": null,
            "grid_template_columns": null,
            "flex": null,
            "_model_name": "LayoutModel",
            "justify_items": null,
            "grid_row": null,
            "max_height": null,
            "align_content": null,
            "visibility": null,
            "align_self": null,
            "height": null,
            "min_height": null,
            "padding": null,
            "grid_auto_rows": null,
            "grid_gap": null,
            "max_width": null,
            "order": null,
            "_view_module_version": "1.2.0",
            "grid_template_areas": null,
            "object_position": null,
            "object_fit": null,
            "grid_auto_columns": null,
            "margin": null,
            "display": null,
            "left": null
          }
        },
        "f0a350b26c2a46f98f8a5f59c4d4ae52": {
          "model_module": "@jupyter-widgets/base",
          "model_name": "LayoutModel",
          "model_module_version": "1.2.0",
          "state": {
            "_view_name": "LayoutView",
            "grid_template_rows": null,
            "right": null,
            "justify_content": null,
            "_view_module": "@jupyter-widgets/base",
            "overflow": null,
            "_model_module_version": "1.2.0",
            "_view_count": null,
            "flex_flow": null,
            "width": null,
            "min_width": null,
            "border": null,
            "align_items": null,
            "bottom": null,
            "_model_module": "@jupyter-widgets/base",
            "top": null,
            "grid_column": null,
            "overflow_y": null,
            "overflow_x": null,
            "grid_auto_flow": null,
            "grid_area": null,
            "grid_template_columns": null,
            "flex": null,
            "_model_name": "LayoutModel",
            "justify_items": null,
            "grid_row": null,
            "max_height": null,
            "align_content": null,
            "visibility": null,
            "align_self": null,
            "height": null,
            "min_height": null,
            "padding": null,
            "grid_auto_rows": null,
            "grid_gap": null,
            "max_width": null,
            "order": null,
            "_view_module_version": "1.2.0",
            "grid_template_areas": null,
            "object_position": null,
            "object_fit": null,
            "grid_auto_columns": null,
            "margin": null,
            "display": null,
            "left": null
          }
        }
      }
    }
  },
  "cells": [
    {
      "cell_type": "markdown",
      "metadata": {
        "id": "view-in-github",
        "colab_type": "text"
      },
      "source": [
        "<a href=\"https://colab.research.google.com/github/saubhagyav/100_Days_Code_Challenge/blob/main/Individual_Book_Recommendation_System.ipynb\" target=\"_parent\"><img src=\"https://colab.research.google.com/assets/colab-badge.svg\" alt=\"Open In Colab\"/></a>"
      ]
    },
    {
      "cell_type": "markdown",
      "metadata": {
        "id": "kmVk2QKOWLht"
      },
      "source": [
        "# **Problem Statement:**\n",
        "During the last few decades, with the rise of Youtube, Amazon, Netflix, and many other such\n",
        "web services, recommender systems have taken more and more place in our lives. From\n",
        "e-commerce (suggest to buyers articles that could interest them) to online advertisement\n",
        "(suggest to users the right contents, matching their preferences), recommender systems are\n",
        "today unavoidable in our daily online journeys.\n",
        "\n",
        "In a very general way, recommender systems are algorithms aimed at suggesting relevant\n",
        "items to users (items being movies to watch, text to read, products to buy, or anything else\n",
        "depending on industries).\n",
        "Recommender systems are really critical in some industries as they can generate a huge\n",
        "amount of income when they are efficient or also be a way to stand out significantly from\n",
        "competitors. The main objective is to create a book recommendation system for users."
      ]
    },
    {
      "cell_type": "code",
      "metadata": {
        "id": "jBNn2zKZWAsM"
      },
      "source": [
        "# Importing Libraries:- \n",
        "import numpy as np\n",
        "import pandas as pd\n",
        "import matplotlib.pyplot as plt\n",
        "import seaborn as sns"
      ],
      "execution_count": 1,
      "outputs": []
    },
    {
      "cell_type": "code",
      "metadata": {
        "id": "x8vzpgIdYrRR"
      },
      "source": [
        "# Paths of the datasets provided to me.\n",
        "user = '/content/drive/MyDrive/Alma Better/Capstone Projects/Book_Recommendation_System-Saubhagya_Verma/Copy of Users.csv'\n",
        "books = '/content/drive/MyDrive/Alma Better/Capstone Projects/Book_Recommendation_System-Saubhagya_Verma/Copy of Books.csv'\n",
        "ratings = '/content/drive/MyDrive/Alma Better/Capstone Projects/Book_Recommendation_System-Saubhagya_Verma/Copy of Ratings.csv'"
      ],
      "execution_count": 2,
      "outputs": []
    },
    {
      "cell_type": "code",
      "metadata": {
        "colab": {
          "base_uri": "https://localhost:8080/"
        },
        "id": "GILF7zZIYpX6",
        "outputId": "68c6549d-db1b-4d89-96bc-eed5d82d961b"
      },
      "source": [
        "df_user = pd.read_csv(user)\n",
        "df_books = pd.read_csv(books)\n",
        "df_ratings = pd.read_csv(ratings)"
      ],
      "execution_count": 3,
      "outputs": [
        {
          "output_type": "stream",
          "name": "stderr",
          "text": [
            "/usr/local/lib/python3.7/dist-packages/IPython/core/interactiveshell.py:2718: DtypeWarning: Columns (3) have mixed types.Specify dtype option on import or set low_memory=False.\n",
            "  interactivity=interactivity, compiler=compiler, result=result)\n"
          ]
        }
      ]
    },
    {
      "cell_type": "markdown",
      "metadata": {
        "id": "KOzX7m6sZq68"
      },
      "source": [
        "# **Informations about the 3 datasets provided to us for this project:-**\n",
        "## The Book-Crossing dataset comprises 3 files.\n",
        "\n",
        "## **1. Users** \n",
        "\n",
        "### Contains the users. Note that user IDs (User-ID) have been anonymized and map to integers. Demographic data is provided (Location, Age) if available. Otherwise, these fields contain NULL values.\n",
        "\n",
        "## **2. Books**\n",
        "\n",
        "### Books are identified by their respective ISBN. Invalid ISBNs have already been removedfrom the dataset. Moreover, some content-based information is given (Book-Title,Book-Author, Year-Of-Publication, Publisher), obtained from Amazon Web Services. Note that in the case of several authors, only the first is provided. URLs linking to cover images are also given, appearing in three different flavors (Image-URL-S, Image-URL-M, Image-URL-L), i.e., small, medium, large. These URLs point to the Amazon website.\n",
        "\n",
        "## **3. Ratings**\n",
        "\n",
        "### Contains the book rating information. Ratings (Book-Rating) are either explicit, expressed on a scale from 1-10 (higher values denoting higher appreciation), or implicit, expressed by 0."
      ]
    },
    {
      "cell_type": "code",
      "metadata": {
        "colab": {
          "base_uri": "https://localhost:8080/",
          "height": 203
        },
        "id": "Lq1C0Sm2ZMG6",
        "outputId": "2dfc710c-9750-48b2-91e2-a121fd1df019"
      },
      "source": [
        "df_user.head()"
      ],
      "execution_count": 4,
      "outputs": [
        {
          "output_type": "execute_result",
          "data": {
            "text/html": [
              "<div>\n",
              "<style scoped>\n",
              "    .dataframe tbody tr th:only-of-type {\n",
              "        vertical-align: middle;\n",
              "    }\n",
              "\n",
              "    .dataframe tbody tr th {\n",
              "        vertical-align: top;\n",
              "    }\n",
              "\n",
              "    .dataframe thead th {\n",
              "        text-align: right;\n",
              "    }\n",
              "</style>\n",
              "<table border=\"1\" class=\"dataframe\">\n",
              "  <thead>\n",
              "    <tr style=\"text-align: right;\">\n",
              "      <th></th>\n",
              "      <th>User-ID</th>\n",
              "      <th>Location</th>\n",
              "      <th>Age</th>\n",
              "    </tr>\n",
              "  </thead>\n",
              "  <tbody>\n",
              "    <tr>\n",
              "      <th>0</th>\n",
              "      <td>1</td>\n",
              "      <td>nyc, new york, usa</td>\n",
              "      <td>NaN</td>\n",
              "    </tr>\n",
              "    <tr>\n",
              "      <th>1</th>\n",
              "      <td>2</td>\n",
              "      <td>stockton, california, usa</td>\n",
              "      <td>18.0</td>\n",
              "    </tr>\n",
              "    <tr>\n",
              "      <th>2</th>\n",
              "      <td>3</td>\n",
              "      <td>moscow, yukon territory, russia</td>\n",
              "      <td>NaN</td>\n",
              "    </tr>\n",
              "    <tr>\n",
              "      <th>3</th>\n",
              "      <td>4</td>\n",
              "      <td>porto, v.n.gaia, portugal</td>\n",
              "      <td>17.0</td>\n",
              "    </tr>\n",
              "    <tr>\n",
              "      <th>4</th>\n",
              "      <td>5</td>\n",
              "      <td>farnborough, hants, united kingdom</td>\n",
              "      <td>NaN</td>\n",
              "    </tr>\n",
              "  </tbody>\n",
              "</table>\n",
              "</div>"
            ],
            "text/plain": [
              "   User-ID                            Location   Age\n",
              "0        1                  nyc, new york, usa   NaN\n",
              "1        2           stockton, california, usa  18.0\n",
              "2        3     moscow, yukon territory, russia   NaN\n",
              "3        4           porto, v.n.gaia, portugal  17.0\n",
              "4        5  farnborough, hants, united kingdom   NaN"
            ]
          },
          "metadata": {},
          "execution_count": 4
        }
      ]
    },
    {
      "cell_type": "code",
      "metadata": {
        "colab": {
          "base_uri": "https://localhost:8080/"
        },
        "id": "fXs3UbplZQBl",
        "outputId": "78e45326-4ba1-492d-c75a-95d74dd4e4f8"
      },
      "source": [
        "df_user.shape"
      ],
      "execution_count": 5,
      "outputs": [
        {
          "output_type": "execute_result",
          "data": {
            "text/plain": [
              "(278858, 3)"
            ]
          },
          "metadata": {},
          "execution_count": 5
        }
      ]
    },
    {
      "cell_type": "code",
      "metadata": {
        "colab": {
          "base_uri": "https://localhost:8080/",
          "height": 425
        },
        "id": "1FIibn18ZSSv",
        "outputId": "90545e0b-7eaf-4c2c-8091-7a67007665f3"
      },
      "source": [
        "df_books.head()"
      ],
      "execution_count": 6,
      "outputs": [
        {
          "output_type": "execute_result",
          "data": {
            "text/html": [
              "<div>\n",
              "<style scoped>\n",
              "    .dataframe tbody tr th:only-of-type {\n",
              "        vertical-align: middle;\n",
              "    }\n",
              "\n",
              "    .dataframe tbody tr th {\n",
              "        vertical-align: top;\n",
              "    }\n",
              "\n",
              "    .dataframe thead th {\n",
              "        text-align: right;\n",
              "    }\n",
              "</style>\n",
              "<table border=\"1\" class=\"dataframe\">\n",
              "  <thead>\n",
              "    <tr style=\"text-align: right;\">\n",
              "      <th></th>\n",
              "      <th>ISBN</th>\n",
              "      <th>Book-Title</th>\n",
              "      <th>Book-Author</th>\n",
              "      <th>Year-Of-Publication</th>\n",
              "      <th>Publisher</th>\n",
              "      <th>Image-URL-S</th>\n",
              "      <th>Image-URL-M</th>\n",
              "      <th>Image-URL-L</th>\n",
              "    </tr>\n",
              "  </thead>\n",
              "  <tbody>\n",
              "    <tr>\n",
              "      <th>0</th>\n",
              "      <td>0195153448</td>\n",
              "      <td>Classical Mythology</td>\n",
              "      <td>Mark P. O. Morford</td>\n",
              "      <td>2002</td>\n",
              "      <td>Oxford University Press</td>\n",
              "      <td>http://images.amazon.com/images/P/0195153448.0...</td>\n",
              "      <td>http://images.amazon.com/images/P/0195153448.0...</td>\n",
              "      <td>http://images.amazon.com/images/P/0195153448.0...</td>\n",
              "    </tr>\n",
              "    <tr>\n",
              "      <th>1</th>\n",
              "      <td>0002005018</td>\n",
              "      <td>Clara Callan</td>\n",
              "      <td>Richard Bruce Wright</td>\n",
              "      <td>2001</td>\n",
              "      <td>HarperFlamingo Canada</td>\n",
              "      <td>http://images.amazon.com/images/P/0002005018.0...</td>\n",
              "      <td>http://images.amazon.com/images/P/0002005018.0...</td>\n",
              "      <td>http://images.amazon.com/images/P/0002005018.0...</td>\n",
              "    </tr>\n",
              "    <tr>\n",
              "      <th>2</th>\n",
              "      <td>0060973129</td>\n",
              "      <td>Decision in Normandy</td>\n",
              "      <td>Carlo D'Este</td>\n",
              "      <td>1991</td>\n",
              "      <td>HarperPerennial</td>\n",
              "      <td>http://images.amazon.com/images/P/0060973129.0...</td>\n",
              "      <td>http://images.amazon.com/images/P/0060973129.0...</td>\n",
              "      <td>http://images.amazon.com/images/P/0060973129.0...</td>\n",
              "    </tr>\n",
              "    <tr>\n",
              "      <th>3</th>\n",
              "      <td>0374157065</td>\n",
              "      <td>Flu: The Story of the Great Influenza Pandemic...</td>\n",
              "      <td>Gina Bari Kolata</td>\n",
              "      <td>1999</td>\n",
              "      <td>Farrar Straus Giroux</td>\n",
              "      <td>http://images.amazon.com/images/P/0374157065.0...</td>\n",
              "      <td>http://images.amazon.com/images/P/0374157065.0...</td>\n",
              "      <td>http://images.amazon.com/images/P/0374157065.0...</td>\n",
              "    </tr>\n",
              "    <tr>\n",
              "      <th>4</th>\n",
              "      <td>0393045218</td>\n",
              "      <td>The Mummies of Urumchi</td>\n",
              "      <td>E. J. W. Barber</td>\n",
              "      <td>1999</td>\n",
              "      <td>W. W. Norton &amp;amp; Company</td>\n",
              "      <td>http://images.amazon.com/images/P/0393045218.0...</td>\n",
              "      <td>http://images.amazon.com/images/P/0393045218.0...</td>\n",
              "      <td>http://images.amazon.com/images/P/0393045218.0...</td>\n",
              "    </tr>\n",
              "  </tbody>\n",
              "</table>\n",
              "</div>"
            ],
            "text/plain": [
              "         ISBN  ...                                        Image-URL-L\n",
              "0  0195153448  ...  http://images.amazon.com/images/P/0195153448.0...\n",
              "1  0002005018  ...  http://images.amazon.com/images/P/0002005018.0...\n",
              "2  0060973129  ...  http://images.amazon.com/images/P/0060973129.0...\n",
              "3  0374157065  ...  http://images.amazon.com/images/P/0374157065.0...\n",
              "4  0393045218  ...  http://images.amazon.com/images/P/0393045218.0...\n",
              "\n",
              "[5 rows x 8 columns]"
            ]
          },
          "metadata": {},
          "execution_count": 6
        }
      ]
    },
    {
      "cell_type": "code",
      "metadata": {
        "colab": {
          "base_uri": "https://localhost:8080/"
        },
        "id": "kHm9kMOkZVaQ",
        "outputId": "3060ab9d-8c18-4e93-9927-6573d653a63f"
      },
      "source": [
        "df_books.shape"
      ],
      "execution_count": 7,
      "outputs": [
        {
          "output_type": "execute_result",
          "data": {
            "text/plain": [
              "(271360, 8)"
            ]
          },
          "metadata": {},
          "execution_count": 7
        }
      ]
    },
    {
      "cell_type": "code",
      "metadata": {
        "colab": {
          "base_uri": "https://localhost:8080/",
          "height": 203
        },
        "id": "6AX-g7XWZYuC",
        "outputId": "3a35c8e6-f00a-427d-cad4-2fa88f522332"
      },
      "source": [
        "df_ratings.head()"
      ],
      "execution_count": 8,
      "outputs": [
        {
          "output_type": "execute_result",
          "data": {
            "text/html": [
              "<div>\n",
              "<style scoped>\n",
              "    .dataframe tbody tr th:only-of-type {\n",
              "        vertical-align: middle;\n",
              "    }\n",
              "\n",
              "    .dataframe tbody tr th {\n",
              "        vertical-align: top;\n",
              "    }\n",
              "\n",
              "    .dataframe thead th {\n",
              "        text-align: right;\n",
              "    }\n",
              "</style>\n",
              "<table border=\"1\" class=\"dataframe\">\n",
              "  <thead>\n",
              "    <tr style=\"text-align: right;\">\n",
              "      <th></th>\n",
              "      <th>User-ID</th>\n",
              "      <th>ISBN</th>\n",
              "      <th>Book-Rating</th>\n",
              "    </tr>\n",
              "  </thead>\n",
              "  <tbody>\n",
              "    <tr>\n",
              "      <th>0</th>\n",
              "      <td>276725</td>\n",
              "      <td>034545104X</td>\n",
              "      <td>0</td>\n",
              "    </tr>\n",
              "    <tr>\n",
              "      <th>1</th>\n",
              "      <td>276726</td>\n",
              "      <td>0155061224</td>\n",
              "      <td>5</td>\n",
              "    </tr>\n",
              "    <tr>\n",
              "      <th>2</th>\n",
              "      <td>276727</td>\n",
              "      <td>0446520802</td>\n",
              "      <td>0</td>\n",
              "    </tr>\n",
              "    <tr>\n",
              "      <th>3</th>\n",
              "      <td>276729</td>\n",
              "      <td>052165615X</td>\n",
              "      <td>3</td>\n",
              "    </tr>\n",
              "    <tr>\n",
              "      <th>4</th>\n",
              "      <td>276729</td>\n",
              "      <td>0521795028</td>\n",
              "      <td>6</td>\n",
              "    </tr>\n",
              "  </tbody>\n",
              "</table>\n",
              "</div>"
            ],
            "text/plain": [
              "   User-ID        ISBN  Book-Rating\n",
              "0   276725  034545104X            0\n",
              "1   276726  0155061224            5\n",
              "2   276727  0446520802            0\n",
              "3   276729  052165615X            3\n",
              "4   276729  0521795028            6"
            ]
          },
          "metadata": {},
          "execution_count": 8
        }
      ]
    },
    {
      "cell_type": "code",
      "metadata": {
        "colab": {
          "base_uri": "https://localhost:8080/"
        },
        "id": "XyZi2UdZZjAy",
        "outputId": "ba9a7307-1b74-43d9-aefc-77b76a48332f"
      },
      "source": [
        "df_ratings.shape"
      ],
      "execution_count": 9,
      "outputs": [
        {
          "output_type": "execute_result",
          "data": {
            "text/plain": [
              "(1149780, 3)"
            ]
          },
          "metadata": {},
          "execution_count": 9
        }
      ]
    },
    {
      "cell_type": "markdown",
      "metadata": {
        "id": "6xKpQKmb6l0o"
      },
      "source": [
        "# **Dropping Insignificant Columns from df_books :-**"
      ]
    },
    {
      "cell_type": "code",
      "metadata": {
        "id": "RQyqkiG151Wb"
      },
      "source": [
        "#dropping last three columns containing image URLs which will not be required for analysis\n",
        "\n",
        "df_books.drop(['Image-URL-S', 'Image-URL-M', 'Image-URL-L'],axis=1,inplace=True)"
      ],
      "execution_count": 10,
      "outputs": []
    },
    {
      "cell_type": "code",
      "metadata": {
        "colab": {
          "base_uri": "https://localhost:8080/"
        },
        "id": "g3WlIrav6JHS",
        "outputId": "c9388c8a-c0c5-496a-ec32-c8d78b7dd446"
      },
      "source": [
        "df_books.shape"
      ],
      "execution_count": 11,
      "outputs": [
        {
          "output_type": "execute_result",
          "data": {
            "text/plain": [
              "(271360, 5)"
            ]
          },
          "metadata": {},
          "execution_count": 11
        }
      ]
    },
    {
      "cell_type": "markdown",
      "metadata": {
        "id": "utslbxlTo89J"
      },
      "source": [
        "# **Calculating the number of null values in the three Datasets:-**"
      ]
    },
    {
      "cell_type": "code",
      "metadata": {
        "colab": {
          "base_uri": "https://localhost:8080/"
        },
        "id": "lLkQCOLipGAU",
        "outputId": "c9fc80e5-dde8-4b83-ac20-546c4661e16f"
      },
      "source": [
        "df_user.isnull().sum()"
      ],
      "execution_count": 12,
      "outputs": [
        {
          "output_type": "execute_result",
          "data": {
            "text/plain": [
              "User-ID          0\n",
              "Location         0\n",
              "Age         110762\n",
              "dtype: int64"
            ]
          },
          "metadata": {},
          "execution_count": 12
        }
      ]
    },
    {
      "cell_type": "code",
      "metadata": {
        "id": "mTbjh-verZ_M",
        "colab": {
          "base_uri": "https://localhost:8080/"
        },
        "outputId": "acb2dad1-6b76-4028-f666-4e7ef8d08245"
      },
      "source": [
        "df_books.isnull().sum()"
      ],
      "execution_count": 13,
      "outputs": [
        {
          "output_type": "execute_result",
          "data": {
            "text/plain": [
              "ISBN                   0\n",
              "Book-Title             0\n",
              "Book-Author            1\n",
              "Year-Of-Publication    0\n",
              "Publisher              2\n",
              "dtype: int64"
            ]
          },
          "metadata": {},
          "execution_count": 13
        }
      ]
    },
    {
      "cell_type": "code",
      "metadata": {
        "colab": {
          "base_uri": "https://localhost:8080/"
        },
        "id": "VjEgAKMKo6h1",
        "outputId": "6969e917-0295-4cd5-9aef-6ac522418c01"
      },
      "source": [
        "df_ratings.isnull().sum()"
      ],
      "execution_count": 14,
      "outputs": [
        {
          "output_type": "execute_result",
          "data": {
            "text/plain": [
              "User-ID        0\n",
              "ISBN           0\n",
              "Book-Rating    0\n",
              "dtype: int64"
            ]
          },
          "metadata": {},
          "execution_count": 14
        }
      ]
    },
    {
      "cell_type": "markdown",
      "metadata": {
        "id": "3OcdJu8R0Nea"
      },
      "source": [
        "# **EDA on the Three Datasets:-** "
      ]
    },
    {
      "cell_type": "code",
      "metadata": {
        "colab": {
          "base_uri": "https://localhost:8080/"
        },
        "id": "4mF1M3ISpPck",
        "outputId": "afed428f-17c5-4832-bdd6-2e763bb2dcca"
      },
      "source": [
        "df_ratings['Book-Rating'].value_counts()"
      ],
      "execution_count": 15,
      "outputs": [
        {
          "output_type": "execute_result",
          "data": {
            "text/plain": [
              "0     716109\n",
              "8     103736\n",
              "10     78610\n",
              "7      76457\n",
              "9      67541\n",
              "5      50974\n",
              "6      36924\n",
              "4       8904\n",
              "3       5996\n",
              "2       2759\n",
              "1       1770\n",
              "Name: Book-Rating, dtype: int64"
            ]
          },
          "metadata": {},
          "execution_count": 15
        }
      ]
    },
    {
      "cell_type": "code",
      "metadata": {
        "colab": {
          "base_uri": "https://localhost:8080/",
          "height": 351
        },
        "id": "jt0F8R7K0cQM",
        "outputId": "90834add-d82d-45c4-e6e8-4128e0d4e9f9"
      },
      "source": [
        "sns.countplot(df_ratings['Book-Rating'].values).set_title('The Ratings')"
      ],
      "execution_count": 16,
      "outputs": [
        {
          "output_type": "stream",
          "name": "stderr",
          "text": [
            "/usr/local/lib/python3.7/dist-packages/seaborn/_decorators.py:43: FutureWarning: Pass the following variable as a keyword arg: x. From version 0.12, the only valid positional argument will be `data`, and passing other arguments without an explicit keyword will result in an error or misinterpretation.\n",
            "  FutureWarning\n"
          ]
        },
        {
          "output_type": "execute_result",
          "data": {
            "text/plain": [
              "Text(0.5, 1.0, 'The Ratings')"
            ]
          },
          "metadata": {},
          "execution_count": 16
        },
        {
          "output_type": "display_data",
          "data": {
            "image/png": "[encoded data removed]",
            "text/plain": [
              "<Figure size 432x288 with 1 Axes>"
            ]
          },
          "metadata": {
            "needs_background": "light"
          }
        }
      ]
    },
    {
      "cell_type": "markdown",
      "metadata": {
        "id": "3Pjg1fySXkiv"
      },
      "source": [
        "# **Forming the Final Dataset by merging the above three Datasets:-** "
      ]
    },
    {
      "cell_type": "code",
      "metadata": {
        "colab": {
          "base_uri": "https://localhost:8080/",
          "height": 203
        },
        "id": "dhZ6BT6-5JAT",
        "outputId": "63903ff3-ec6f-4a64-d111-588cdedad2f2"
      },
      "source": [
        "df_new = pd.merge(df_user, df_ratings, how='inner', on='User-ID')\n",
        "df_new.head()"
      ],
      "execution_count": 17,
      "outputs": [
        {
          "output_type": "execute_result",
          "data": {
            "text/html": [
              "<div>\n",
              "<style scoped>\n",
              "    .dataframe tbody tr th:only-of-type {\n",
              "        vertical-align: middle;\n",
              "    }\n",
              "\n",
              "    .dataframe tbody tr th {\n",
              "        vertical-align: top;\n",
              "    }\n",
              "\n",
              "    .dataframe thead th {\n",
              "        text-align: right;\n",
              "    }\n",
              "</style>\n",
              "<table border=\"1\" class=\"dataframe\">\n",
              "  <thead>\n",
              "    <tr style=\"text-align: right;\">\n",
              "      <th></th>\n",
              "      <th>User-ID</th>\n",
              "      <th>Location</th>\n",
              "      <th>Age</th>\n",
              "      <th>ISBN</th>\n",
              "      <th>Book-Rating</th>\n",
              "    </tr>\n",
              "  </thead>\n",
              "  <tbody>\n",
              "    <tr>\n",
              "      <th>0</th>\n",
              "      <td>2</td>\n",
              "      <td>stockton, california, usa</td>\n",
              "      <td>18.0</td>\n",
              "      <td>0195153448</td>\n",
              "      <td>0</td>\n",
              "    </tr>\n",
              "    <tr>\n",
              "      <th>1</th>\n",
              "      <td>7</td>\n",
              "      <td>washington, dc, usa</td>\n",
              "      <td>NaN</td>\n",
              "      <td>034542252</td>\n",
              "      <td>0</td>\n",
              "    </tr>\n",
              "    <tr>\n",
              "      <th>2</th>\n",
              "      <td>8</td>\n",
              "      <td>timmins, ontario, canada</td>\n",
              "      <td>NaN</td>\n",
              "      <td>0002005018</td>\n",
              "      <td>5</td>\n",
              "    </tr>\n",
              "    <tr>\n",
              "      <th>3</th>\n",
              "      <td>8</td>\n",
              "      <td>timmins, ontario, canada</td>\n",
              "      <td>NaN</td>\n",
              "      <td>0060973129</td>\n",
              "      <td>0</td>\n",
              "    </tr>\n",
              "    <tr>\n",
              "      <th>4</th>\n",
              "      <td>8</td>\n",
              "      <td>timmins, ontario, canada</td>\n",
              "      <td>NaN</td>\n",
              "      <td>0374157065</td>\n",
              "      <td>0</td>\n",
              "    </tr>\n",
              "  </tbody>\n",
              "</table>\n",
              "</div>"
            ],
            "text/plain": [
              "   User-ID                   Location   Age        ISBN  Book-Rating\n",
              "0        2  stockton, california, usa  18.0  0195153448            0\n",
              "1        7        washington, dc, usa   NaN   034542252            0\n",
              "2        8   timmins, ontario, canada   NaN  0002005018            5\n",
              "3        8   timmins, ontario, canada   NaN  0060973129            0\n",
              "4        8   timmins, ontario, canada   NaN  0374157065            0"
            ]
          },
          "metadata": {},
          "execution_count": 17
        }
      ]
    },
    {
      "cell_type": "code",
      "metadata": {
        "colab": {
          "base_uri": "https://localhost:8080/"
        },
        "id": "YeamHpDD1WsU",
        "outputId": "d4fa3e83-14fd-4ebf-a5d8-8b3b84a8e3ab"
      },
      "source": [
        "df_new.shape"
      ],
      "execution_count": 18,
      "outputs": [
        {
          "output_type": "execute_result",
          "data": {
            "text/plain": [
              "(1149780, 5)"
            ]
          },
          "metadata": {},
          "execution_count": 18
        }
      ]
    },
    {
      "cell_type": "code",
      "metadata": {
        "id": "J88LgJy8DbPo",
        "colab": {
          "base_uri": "https://localhost:8080/",
          "height": 203
        },
        "outputId": "8dd52b78-f34c-414f-bae4-36a63a29bcfc"
      },
      "source": [
        "df_new = df_new.merge(df_books, on='ISBN')\n",
        "df_new.head()"
      ],
      "execution_count": 19,
      "outputs": [
        {
          "output_type": "execute_result",
          "data": {
            "text/html": [
              "<div>\n",
              "<style scoped>\n",
              "    .dataframe tbody tr th:only-of-type {\n",
              "        vertical-align: middle;\n",
              "    }\n",
              "\n",
              "    .dataframe tbody tr th {\n",
              "        vertical-align: top;\n",
              "    }\n",
              "\n",
              "    .dataframe thead th {\n",
              "        text-align: right;\n",
              "    }\n",
              "</style>\n",
              "<table border=\"1\" class=\"dataframe\">\n",
              "  <thead>\n",
              "    <tr style=\"text-align: right;\">\n",
              "      <th></th>\n",
              "      <th>User-ID</th>\n",
              "      <th>Location</th>\n",
              "      <th>Age</th>\n",
              "      <th>ISBN</th>\n",
              "      <th>Book-Rating</th>\n",
              "      <th>Book-Title</th>\n",
              "      <th>Book-Author</th>\n",
              "      <th>Year-Of-Publication</th>\n",
              "      <th>Publisher</th>\n",
              "    </tr>\n",
              "  </thead>\n",
              "  <tbody>\n",
              "    <tr>\n",
              "      <th>0</th>\n",
              "      <td>2</td>\n",
              "      <td>stockton, california, usa</td>\n",
              "      <td>18.0</td>\n",
              "      <td>0195153448</td>\n",
              "      <td>0</td>\n",
              "      <td>Classical Mythology</td>\n",
              "      <td>Mark P. O. Morford</td>\n",
              "      <td>2002</td>\n",
              "      <td>Oxford University Press</td>\n",
              "    </tr>\n",
              "    <tr>\n",
              "      <th>1</th>\n",
              "      <td>8</td>\n",
              "      <td>timmins, ontario, canada</td>\n",
              "      <td>NaN</td>\n",
              "      <td>0002005018</td>\n",
              "      <td>5</td>\n",
              "      <td>Clara Callan</td>\n",
              "      <td>Richard Bruce Wright</td>\n",
              "      <td>2001</td>\n",
              "      <td>HarperFlamingo Canada</td>\n",
              "    </tr>\n",
              "    <tr>\n",
              "      <th>2</th>\n",
              "      <td>11400</td>\n",
              "      <td>ottawa, ontario, canada</td>\n",
              "      <td>49.0</td>\n",
              "      <td>0002005018</td>\n",
              "      <td>0</td>\n",
              "      <td>Clara Callan</td>\n",
              "      <td>Richard Bruce Wright</td>\n",
              "      <td>2001</td>\n",
              "      <td>HarperFlamingo Canada</td>\n",
              "    </tr>\n",
              "    <tr>\n",
              "      <th>3</th>\n",
              "      <td>11676</td>\n",
              "      <td>n/a, n/a, n/a</td>\n",
              "      <td>NaN</td>\n",
              "      <td>0002005018</td>\n",
              "      <td>8</td>\n",
              "      <td>Clara Callan</td>\n",
              "      <td>Richard Bruce Wright</td>\n",
              "      <td>2001</td>\n",
              "      <td>HarperFlamingo Canada</td>\n",
              "    </tr>\n",
              "    <tr>\n",
              "      <th>4</th>\n",
              "      <td>41385</td>\n",
              "      <td>sudbury, ontario, canada</td>\n",
              "      <td>NaN</td>\n",
              "      <td>0002005018</td>\n",
              "      <td>0</td>\n",
              "      <td>Clara Callan</td>\n",
              "      <td>Richard Bruce Wright</td>\n",
              "      <td>2001</td>\n",
              "      <td>HarperFlamingo Canada</td>\n",
              "    </tr>\n",
              "  </tbody>\n",
              "</table>\n",
              "</div>"
            ],
            "text/plain": [
              "   User-ID  ...                Publisher\n",
              "0        2  ...  Oxford University Press\n",
              "1        8  ...    HarperFlamingo Canada\n",
              "2    11400  ...    HarperFlamingo Canada\n",
              "3    11676  ...    HarperFlamingo Canada\n",
              "4    41385  ...    HarperFlamingo Canada\n",
              "\n",
              "[5 rows x 9 columns]"
            ]
          },
          "metadata": {},
          "execution_count": 19
        }
      ]
    },
    {
      "cell_type": "markdown",
      "metadata": {
        "id": "tmrk6H_I9gAU"
      },
      "source": [
        "# **Removing Unwanted Values from the Dataset:-**"
      ]
    },
    {
      "cell_type": "code",
      "metadata": {
        "colab": {
          "base_uri": "https://localhost:8080/"
        },
        "id": "8rCxA6AX9WIT",
        "outputId": "d5998938-cffd-4df7-fcf0-4afffd875551"
      },
      "source": [
        "df_new.info()"
      ],
      "execution_count": 20,
      "outputs": [
        {
          "output_type": "stream",
          "name": "stdout",
          "text": [
            "<class 'pandas.core.frame.DataFrame'>\n",
            "Int64Index: 1031136 entries, 0 to 1031135\n",
            "Data columns (total 9 columns):\n",
            " #   Column               Non-Null Count    Dtype  \n",
            "---  ------               --------------    -----  \n",
            " 0   User-ID              1031136 non-null  int64  \n",
            " 1   Location             1031136 non-null  object \n",
            " 2   Age                  753301 non-null   float64\n",
            " 3   ISBN                 1031136 non-null  object \n",
            " 4   Book-Rating          1031136 non-null  int64  \n",
            " 5   Book-Title           1031136 non-null  object \n",
            " 6   Book-Author          1031135 non-null  object \n",
            " 7   Year-Of-Publication  1031136 non-null  object \n",
            " 8   Publisher            1031134 non-null  object \n",
            "dtypes: float64(1), int64(2), object(6)\n",
            "memory usage: 78.7+ MB\n"
          ]
        }
      ]
    },
    {
      "cell_type": "markdown",
      "metadata": {
        "id": "ZyBma2Fh9ol7"
      },
      "source": [
        "### **Here the Year-Of-Publication is in object Dtype, it should ideally be in  numeric Dtype. Let us explore this feature a bit more.**"
      ]
    },
    {
      "cell_type": "markdown",
      "metadata": {
        "id": "Vy7axJk-98yA"
      },
      "source": [
        "## 1. **Cleaning the Feature - Year of Publication:-**"
      ]
    },
    {
      "cell_type": "code",
      "metadata": {
        "colab": {
          "base_uri": "https://localhost:8080/"
        },
        "id": "OPqvqpqo4f3b",
        "outputId": "24d95f73-48bf-4379-ac53-1a178f7e421e"
      },
      "source": [
        "# Visually inspecting this feature by observing it's unique values.\n",
        "df_new['Year-Of-Publication'].unique()"
      ],
      "execution_count": 21,
      "outputs": [
        {
          "output_type": "execute_result",
          "data": {
            "text/plain": [
              "array([2002, 2001, 1991, 1999, 2000, 1993, 1996, 1988, 2004, 1998, 1994,\n",
              "       2003, 1997, 1987, 1989, 1992, 1983, 1979, 1995, 1982, 1985, 1986,\n",
              "       1978, 1980, 1952, 1990, 1981, 0, 1984, 1968, 1961, 1959, 1946,\n",
              "       1974, 1958, 1976, 1971, '2002', 1977, 1975, 1965, 1941, 1970,\n",
              "       '1996', '1999', 1972, '1989', '1992', '2001', 1953, 1962, 1973,\n",
              "       '2004', 1960, '1997', '2000', '0', 1954, 1966, 1920, '1998',\n",
              "       '2003', 1967, 1956, 1942, 1955, 1951, 1969, 1948, '1977', '1990',\n",
              "       '1986', '1994', '1982', 1963, 1964, '1995', '1959', '1988', 1950,\n",
              "       '1991', '1984', 2005, 1943, '1993', '1987', '1983', '1981', 1957,\n",
              "       '1972', '1980', 1937, 1940, '1965', '1970', '1979', 1930, 1923,\n",
              "       1945, 1947, '1976', 1936, '1985', '1978', 1925, '1966', '1958',\n",
              "       '1975', '1973', 1927, '1974', '1967', '1971', '1969', 2030, '1968',\n",
              "       2011, '1960', '1964', 2020, 1939, 1926, 1938, '1961', 1911, 1904,\n",
              "       1949, 1932, 1929, '1953', '1963', '1955', '1944', '1920', '1956',\n",
              "       '1957', '1942', '1933', '1962', '1952', '1922', '1897', '1954',\n",
              "       '1941', '1949', '1939', 2050, '1947', 1902, 1924, 1921, 1900,\n",
              "       '1945', '2005', 2038, 2010, 1928, '1932', '1911', '2006', '1948',\n",
              "       '1923', '1943', 1901, 2026, '1900', 2021, '1951', 1931, '1940',\n",
              "       '1378', '2030', '1946', '1950', 1908, '1938', 'DK Publishing Inc',\n",
              "       'Gallimard', '1909', '1924', '2012', '2008', '1936', 1935, '1376',\n",
              "       '1926', '2037', '1931', '1927', 1906, 1806, 1933, 1944, 1917,\n",
              "       '2020', '1930', '2011', '1919', 1914, 1934, 1910, '2024'],\n",
              "      dtype=object)"
            ]
          },
          "metadata": {},
          "execution_count": 21
        }
      ]
    },
    {
      "cell_type": "markdown",
      "metadata": {
        "id": "Cqe9CIGu5b9K"
      },
      "source": [
        "# **Observation:-** We can clearly see that their are some noice values in the Year of Publication features :-\n",
        "### 1. **String Noice Values -** such as 'DK Publishing Inc' and 'Gallimard.\n",
        "### 2. **Integer Noice Values -** Since this data was collected in august 2004, so any year value greater than 2004 is a noice value."
      ]
    },
    {
      "cell_type": "code",
      "metadata": {
        "id": "qUnfP3Yp1eli"
      },
      "source": [
        "# Casting Year-Of-Publication to numeric datatype and removing all String Noice Values using coerce functionality.\n",
        "\n",
        "df_new['Year-Of-Publication'] = pd.to_numeric(df_new['Year-Of-Publication'], 'coerce')"
      ],
      "execution_count": 22,
      "outputs": []
    },
    {
      "cell_type": "code",
      "metadata": {
        "colab": {
          "base_uri": "https://localhost:8080/"
        },
        "id": "4tWJUtGn5u37",
        "outputId": "3e342b28-0c4c-4674-c4b7-78bd6e59aca4"
      },
      "source": [
        "# Cross checking the column to check if the string based noice values are removed or not.\n",
        "df_new['Year-Of-Publication'].unique()"
      ],
      "execution_count": 23,
      "outputs": [
        {
          "output_type": "execute_result",
          "data": {
            "text/plain": [
              "array([2002., 2001., 1991., 1999., 2000., 1993., 1996., 1988., 2004.,\n",
              "       1998., 1994., 2003., 1997., 1987., 1989., 1992., 1983., 1979.,\n",
              "       1995., 1982., 1985., 1986., 1978., 1980., 1952., 1990., 1981.,\n",
              "          0., 1984., 1968., 1961., 1959., 1946., 1974., 1958., 1976.,\n",
              "       1971., 1977., 1975., 1965., 1941., 1970., 1972., 1953., 1962.,\n",
              "       1973., 1960., 1954., 1966., 1920., 1967., 1956., 1942., 1955.,\n",
              "       1951., 1969., 1948., 1963., 1964., 1950., 2005., 1943., 1957.,\n",
              "       1937., 1940., 1930., 1923., 1945., 1947., 1936., 1925., 1927.,\n",
              "       2030., 2011., 2020., 1939., 1926., 1938., 1911., 1904., 1949.,\n",
              "       1932., 1929., 1944., 1933., 1922., 1897., 2050., 1902., 1924.,\n",
              "       1921., 1900., 2038., 2010., 1928., 2006., 1901., 2026., 2021.,\n",
              "       1931., 1378., 1908.,   nan, 1909., 2012., 2008., 1935., 1376.,\n",
              "       2037., 1906., 1806., 1917., 1919., 1914., 1934., 1910., 2024.])"
            ]
          },
          "metadata": {},
          "execution_count": 23
        }
      ]
    },
    {
      "cell_type": "code",
      "metadata": {
        "colab": {
          "base_uri": "https://localhost:8080/",
          "height": 110
        },
        "id": "HY7WDQu-4_pJ",
        "outputId": "dea7d778-7f42-4f35-d321-c482b251c377"
      },
      "source": [
        "# Removing all the integer Noice Values from the Dataset.\n",
        "df_new = df_new[(df_new['Year-Of-Publication']<=2004) & (df_new['Year-Of-Publication']!= 0)]\n",
        "df_new.head(2)"
      ],
      "execution_count": 24,
      "outputs": [
        {
          "output_type": "execute_result",
          "data": {
            "text/html": [
              "<div>\n",
              "<style scoped>\n",
              "    .dataframe tbody tr th:only-of-type {\n",
              "        vertical-align: middle;\n",
              "    }\n",
              "\n",
              "    .dataframe tbody tr th {\n",
              "        vertical-align: top;\n",
              "    }\n",
              "\n",
              "    .dataframe thead th {\n",
              "        text-align: right;\n",
              "    }\n",
              "</style>\n",
              "<table border=\"1\" class=\"dataframe\">\n",
              "  <thead>\n",
              "    <tr style=\"text-align: right;\">\n",
              "      <th></th>\n",
              "      <th>User-ID</th>\n",
              "      <th>Location</th>\n",
              "      <th>Age</th>\n",
              "      <th>ISBN</th>\n",
              "      <th>Book-Rating</th>\n",
              "      <th>Book-Title</th>\n",
              "      <th>Book-Author</th>\n",
              "      <th>Year-Of-Publication</th>\n",
              "      <th>Publisher</th>\n",
              "    </tr>\n",
              "  </thead>\n",
              "  <tbody>\n",
              "    <tr>\n",
              "      <th>0</th>\n",
              "      <td>2</td>\n",
              "      <td>stockton, california, usa</td>\n",
              "      <td>18.0</td>\n",
              "      <td>0195153448</td>\n",
              "      <td>0</td>\n",
              "      <td>Classical Mythology</td>\n",
              "      <td>Mark P. O. Morford</td>\n",
              "      <td>2002.0</td>\n",
              "      <td>Oxford University Press</td>\n",
              "    </tr>\n",
              "    <tr>\n",
              "      <th>1</th>\n",
              "      <td>8</td>\n",
              "      <td>timmins, ontario, canada</td>\n",
              "      <td>NaN</td>\n",
              "      <td>0002005018</td>\n",
              "      <td>5</td>\n",
              "      <td>Clara Callan</td>\n",
              "      <td>Richard Bruce Wright</td>\n",
              "      <td>2001.0</td>\n",
              "      <td>HarperFlamingo Canada</td>\n",
              "    </tr>\n",
              "  </tbody>\n",
              "</table>\n",
              "</div>"
            ],
            "text/plain": [
              "   User-ID  ...                Publisher\n",
              "0        2  ...  Oxford University Press\n",
              "1        8  ...    HarperFlamingo Canada\n",
              "\n",
              "[2 rows x 9 columns]"
            ]
          },
          "metadata": {},
          "execution_count": 24
        }
      ]
    },
    {
      "cell_type": "code",
      "metadata": {
        "colab": {
          "base_uri": "https://localhost:8080/"
        },
        "id": "eq-v4Sg--md4",
        "outputId": "eaefb8e6-1b3e-4b9e-a882-7d9c3cd5455c"
      },
      "source": [
        "df_new['Year-Of-Publication'].unique()"
      ],
      "execution_count": 25,
      "outputs": [
        {
          "output_type": "execute_result",
          "data": {
            "text/plain": [
              "array([2002., 2001., 1991., 1999., 2000., 1993., 1996., 1988., 2004.,\n",
              "       1998., 1994., 2003., 1997., 1987., 1989., 1992., 1983., 1979.,\n",
              "       1995., 1982., 1985., 1986., 1978., 1980., 1952., 1990., 1981.,\n",
              "       1984., 1968., 1961., 1959., 1946., 1974., 1958., 1976., 1971.,\n",
              "       1977., 1975., 1965., 1941., 1970., 1972., 1953., 1962., 1973.,\n",
              "       1960., 1954., 1966., 1920., 1967., 1956., 1942., 1955., 1951.,\n",
              "       1969., 1948., 1963., 1964., 1950., 1943., 1957., 1937., 1940.,\n",
              "       1930., 1923., 1945., 1947., 1936., 1925., 1927., 1939., 1926.,\n",
              "       1938., 1911., 1904., 1949., 1932., 1929., 1944., 1933., 1922.,\n",
              "       1897., 1902., 1924., 1921., 1900., 1928., 1901., 1931., 1378.,\n",
              "       1908., 1909., 1935., 1376., 1906., 1806., 1917., 1919., 1914.,\n",
              "       1934., 1910.])"
            ]
          },
          "metadata": {},
          "execution_count": 25
        }
      ]
    },
    {
      "cell_type": "code",
      "metadata": {
        "colab": {
          "base_uri": "https://localhost:8080/"
        },
        "id": "aqkfNcwJ_lJb",
        "outputId": "7b528070-6fa6-4adc-d569-32b6da668aff"
      },
      "source": [
        "# The percentage of Data lost while cleaning the Year-of_publication Feature.\n",
        "percentage_of_data_lost = (1031136 - df_new.shape[0])*100/1031136\n",
        "percentage_of_data_lost"
      ],
      "execution_count": 26,
      "outputs": [
        {
          "output_type": "execute_result",
          "data": {
            "text/plain": [
              "1.3788675790584366"
            ]
          },
          "metadata": {},
          "execution_count": 26
        }
      ]
    },
    {
      "cell_type": "markdown",
      "metadata": {
        "id": "75s1erqsBAIL"
      },
      "source": [
        "# **Therefore, after cleaning the dataset based upon Year-Of-Publication Feature, we lost only a miniscule amount of 1.3% data.**"
      ]
    },
    {
      "cell_type": "markdown",
      "metadata": {
        "id": "5GhsTlGoAJzj"
      },
      "source": [
        "## **2. Cleaning the Feature - Book Rating :-**"
      ]
    },
    {
      "cell_type": "markdown",
      "metadata": {
        "id": "_xRF1O-QEPLZ"
      },
      "source": [
        "## **Reasons for Eliminating the zero Rating:-** \n",
        "\n",
        "### 1. Since zero is not explicitly defined by users for rating the books, it doesn't provide much info regarding the user satisfaction from the book.\n",
        "\n",
        "### 2. In real life aswell, most of the books sold on amazon don't get rated by the users and it's evident from the count of zero ratings in the count plot.\n",
        "\n",
        "### **We need data to make recommendations to users only when we have effective insights about them.**"
      ]
    },
    {
      "cell_type": "code",
      "metadata": {
        "colab": {
          "base_uri": "https://localhost:8080/"
        },
        "id": "TwLNyAaLAljc",
        "outputId": "6d031c37-c3b0-4e2b-d1b1-3ceff8ca75f6"
      },
      "source": [
        "# Size of dataset rows before the cleaing operation.\n",
        "df_before_size = df_new.shape[0]\n",
        "df_before_size"
      ],
      "execution_count": 27,
      "outputs": [
        {
          "output_type": "execute_result",
          "data": {
            "text/plain": [
              "1016918"
            ]
          },
          "metadata": {},
          "execution_count": 27
        }
      ]
    },
    {
      "cell_type": "code",
      "metadata": {
        "colab": {
          "base_uri": "https://localhost:8080/"
        },
        "id": "axkUGYVtAipH",
        "outputId": "0c04a392-d6a2-43c6-c991-cabe52d55d67"
      },
      "source": [
        "# Removing all the implicit values as they aren't explicitly refered to as ratings.\n",
        "df_new = df_new[df_new['Book-Rating']>0]\n",
        "\n",
        "# Size of dataset rows after the cleaing operation.\n",
        "df_after_size = df_new.shape[0]\n",
        "df_after_size"
      ],
      "execution_count": 28,
      "outputs": [
        {
          "output_type": "execute_result",
          "data": {
            "text/plain": [
              "377973"
            ]
          },
          "metadata": {},
          "execution_count": 28
        }
      ]
    },
    {
      "cell_type": "code",
      "metadata": {
        "colab": {
          "base_uri": "https://localhost:8080/"
        },
        "id": "2pd5dsa7Axc4",
        "outputId": "b5786d47-4bc8-45e9-e8be-206f55ab18c0"
      },
      "source": [
        "# Percentage of Data lost while cleaning the Book Rating Feature.\n",
        "percentage_of_0_data_lost = (df_before_size- df_after_size)*100/df_before_size\n",
        "percentage_of_0_data_lost"
      ],
      "execution_count": 29,
      "outputs": [
        {
          "output_type": "execute_result",
          "data": {
            "text/plain": [
              "62.831516405452554"
            ]
          },
          "metadata": {},
          "execution_count": 29
        }
      ]
    },
    {
      "cell_type": "code",
      "metadata": {
        "colab": {
          "base_uri": "https://localhost:8080/",
          "height": 351
        },
        "id": "MPxzcvkyAipI",
        "outputId": "f1d577fc-2a3b-4a78-be0e-3fb07fce9423"
      },
      "source": [
        "# Visualizing the Book Ratings after removing the implicit value '0':-\n",
        "sns.countplot(df_new['Book-Rating'].values).set_title('The Ratings')"
      ],
      "execution_count": 30,
      "outputs": [
        {
          "output_type": "stream",
          "name": "stderr",
          "text": [
            "/usr/local/lib/python3.7/dist-packages/seaborn/_decorators.py:43: FutureWarning: Pass the following variable as a keyword arg: x. From version 0.12, the only valid positional argument will be `data`, and passing other arguments without an explicit keyword will result in an error or misinterpretation.\n",
            "  FutureWarning\n"
          ]
        },
        {
          "output_type": "execute_result",
          "data": {
            "text/plain": [
              "Text(0.5, 1.0, 'The Ratings')"
            ]
          },
          "metadata": {},
          "execution_count": 30
        },
        {
          "output_type": "display_data",
          "data": {
            "image/png": "[encoded data removed]",
            "text/plain": [
              "<Figure size 432x288 with 1 Axes>"
            ]
          },
          "metadata": {
            "needs_background": "light"
          }
        }
      ]
    },
    {
      "cell_type": "markdown",
      "metadata": {
        "id": "8udnVeo2BP_c"
      },
      "source": [
        "# **Therefore, after cleaning the dataset based upon Book-Rating Feature, we lost a large amount of our data. We lost almost 63% of values from our dataset.**"
      ]
    },
    {
      "cell_type": "markdown",
      "metadata": {
        "id": "x9L-scPvNX3N"
      },
      "source": [
        "## **3. Cleaning the Feature - Age :-**"
      ]
    },
    {
      "cell_type": "code",
      "metadata": {
        "colab": {
          "base_uri": "https://localhost:8080/"
        },
        "id": "l5ney8z1Nqvp",
        "outputId": "186de0fb-0ace-4e8b-e037-bd984239007b"
      },
      "source": [
        "# Size of dataset rows before the cleaing operation.\n",
        "df_size_before_removing_age_outliers = df_new.shape[0]\n",
        "df_size_before_removing_age_outliers"
      ],
      "execution_count": 31,
      "outputs": [
        {
          "output_type": "execute_result",
          "data": {
            "text/plain": [
              "377973"
            ]
          },
          "metadata": {},
          "execution_count": 31
        }
      ]
    },
    {
      "cell_type": "code",
      "metadata": {
        "colab": {
          "base_uri": "https://localhost:8080/",
          "height": 110
        },
        "id": "5eDKKG1ANY3q",
        "outputId": "5a0452b0-32e4-4671-87d3-c5bdce0cc3ba"
      },
      "source": [
        "# Setting Age Threshold as 90 years as any person beyond this age won't have the mental capacity to properly review a book.\n",
        "df_new['Age'] = np.where(df_new['Age']>90, None, df_new['Age'])\n",
        "df_new[df_new['Age'].isna()].shape[0]\n",
        "df_new = df_new[~df_new['Age'].isna()]\n",
        "df_new.head(2)"
      ],
      "execution_count": 32,
      "outputs": [
        {
          "output_type": "execute_result",
          "data": {
            "text/html": [
              "<div>\n",
              "<style scoped>\n",
              "    .dataframe tbody tr th:only-of-type {\n",
              "        vertical-align: middle;\n",
              "    }\n",
              "\n",
              "    .dataframe tbody tr th {\n",
              "        vertical-align: top;\n",
              "    }\n",
              "\n",
              "    .dataframe thead th {\n",
              "        text-align: right;\n",
              "    }\n",
              "</style>\n",
              "<table border=\"1\" class=\"dataframe\">\n",
              "  <thead>\n",
              "    <tr style=\"text-align: right;\">\n",
              "      <th></th>\n",
              "      <th>User-ID</th>\n",
              "      <th>Location</th>\n",
              "      <th>Age</th>\n",
              "      <th>ISBN</th>\n",
              "      <th>Book-Rating</th>\n",
              "      <th>Book-Title</th>\n",
              "      <th>Book-Author</th>\n",
              "      <th>Year-Of-Publication</th>\n",
              "      <th>Publisher</th>\n",
              "    </tr>\n",
              "  </thead>\n",
              "  <tbody>\n",
              "    <tr>\n",
              "      <th>5</th>\n",
              "      <td>67544</td>\n",
              "      <td>toronto, ontario, canada</td>\n",
              "      <td>30</td>\n",
              "      <td>0002005018</td>\n",
              "      <td>8</td>\n",
              "      <td>Clara Callan</td>\n",
              "      <td>Richard Bruce Wright</td>\n",
              "      <td>2001.0</td>\n",
              "      <td>HarperFlamingo Canada</td>\n",
              "    </tr>\n",
              "    <tr>\n",
              "      <th>13</th>\n",
              "      <td>219008</td>\n",
              "      <td>halifax, nova scotia, canada</td>\n",
              "      <td>60</td>\n",
              "      <td>0002005018</td>\n",
              "      <td>7</td>\n",
              "      <td>Clara Callan</td>\n",
              "      <td>Richard Bruce Wright</td>\n",
              "      <td>2001.0</td>\n",
              "      <td>HarperFlamingo Canada</td>\n",
              "    </tr>\n",
              "  </tbody>\n",
              "</table>\n",
              "</div>"
            ],
            "text/plain": [
              "    User-ID  ...              Publisher\n",
              "5     67544  ...  HarperFlamingo Canada\n",
              "13   219008  ...  HarperFlamingo Canada\n",
              "\n",
              "[2 rows x 9 columns]"
            ]
          },
          "metadata": {},
          "execution_count": 32
        }
      ]
    },
    {
      "cell_type": "code",
      "metadata": {
        "colab": {
          "base_uri": "https://localhost:8080/"
        },
        "id": "7RP7wsSLN22R",
        "outputId": "52cfcb58-d99e-42d6-a18d-229a7568201e"
      },
      "source": [
        "# Size of dataset rows after the cleaing operation.\n",
        "df_size_after_removing_age_outliers = df_new.shape[0]\n",
        "df_size_after_removing_age_outliers"
      ],
      "execution_count": 33,
      "outputs": [
        {
          "output_type": "execute_result",
          "data": {
            "text/plain": [
              "264556"
            ]
          },
          "metadata": {},
          "execution_count": 33
        }
      ]
    },
    {
      "cell_type": "code",
      "metadata": {
        "colab": {
          "base_uri": "https://localhost:8080/"
        },
        "id": "sgRRy4aXOFZn",
        "outputId": "f0dca789-a5cc-4d35-c3bb-618054ad2b73"
      },
      "source": [
        "# Percentage of Data lost while cleaning the Age Feature.\n",
        "percentage_of_data_lost_after_removing_age_outliers = (df_size_before_removing_age_outliers- df_size_after_removing_age_outliers)*100/df_size_before_removing_age_outliers\n",
        "percentage_of_data_lost_after_removing_age_outliers"
      ],
      "execution_count": 34,
      "outputs": [
        {
          "output_type": "execute_result",
          "data": {
            "text/plain": [
              "30.006640685974926"
            ]
          },
          "metadata": {},
          "execution_count": 34
        }
      ]
    },
    {
      "cell_type": "markdown",
      "metadata": {
        "id": "qsBHMFq0PUIj"
      },
      "source": [
        "## **Therefore, after removing the outlers from the age column, we are left with around 2.6 lakh rows of data. We lost nearly 30% of the values during this operation.**\n"
      ]
    },
    {
      "cell_type": "markdown",
      "metadata": {
        "id": "Gz6DINjJRVSC"
      },
      "source": [
        "## **Let us have a look at the null values left in the dataeset.**"
      ]
    },
    {
      "cell_type": "code",
      "metadata": {
        "colab": {
          "base_uri": "https://localhost:8080/"
        },
        "id": "7AxzM316RGCF",
        "outputId": "a009635f-4abb-4a81-802e-13fb25b1f55c"
      },
      "source": [
        "# Checking the null values in the dataset:-\n",
        "df_new.isnull().sum()"
      ],
      "execution_count": 35,
      "outputs": [
        {
          "output_type": "execute_result",
          "data": {
            "text/plain": [
              "User-ID                0\n",
              "Location               0\n",
              "Age                    0\n",
              "ISBN                   0\n",
              "Book-Rating            0\n",
              "Book-Title             0\n",
              "Book-Author            1\n",
              "Year-Of-Publication    0\n",
              "Publisher              2\n",
              "dtype: int64"
            ]
          },
          "metadata": {},
          "execution_count": 35
        }
      ]
    },
    {
      "cell_type": "code",
      "metadata": {
        "colab": {
          "base_uri": "https://localhost:8080/"
        },
        "id": "rfWh7nAvRMnL",
        "outputId": "5e462773-fad4-49b8-882a-40b8b13a531c"
      },
      "source": [
        "# Removing the 3 null values from the dataset to get the final cleaned Dataset:- \n",
        "df_new.dropna(inplace=True)\n",
        "\n",
        "# Re-checking the number of null values in the dataset:-\n",
        "df_new.isnull().sum()"
      ],
      "execution_count": 36,
      "outputs": [
        {
          "output_type": "execute_result",
          "data": {
            "text/plain": [
              "User-ID                0\n",
              "Location               0\n",
              "Age                    0\n",
              "ISBN                   0\n",
              "Book-Rating            0\n",
              "Book-Title             0\n",
              "Book-Author            0\n",
              "Year-Of-Publication    0\n",
              "Publisher              0\n",
              "dtype: int64"
            ]
          },
          "metadata": {},
          "execution_count": 36
        }
      ]
    },
    {
      "cell_type": "markdown",
      "metadata": {
        "id": "Rvq_7EMFMYOW"
      },
      "source": [
        "# **Defining the Optimum Book reader**:-\n",
        "\n",
        "### We can't take every user's rating at facevalue because if the user is a novice reader with only an experience of reading a couple of books, his/her ratings might not be much relevant for finding similarity among books.\n",
        "\n",
        "### **Therefore as a general rule of thumb we choosing only those User's who have rated atleast 15 Books for builing the recommendation system.**"
      ]
    },
    {
      "cell_type": "code",
      "metadata": {
        "colab": {
          "base_uri": "https://localhost:8080/"
        },
        "id": "5V3K3vwjV6VF",
        "outputId": "8629f008-8735-4f83-c90e-2b4955d0084e"
      },
      "source": [
        "# Size of dataset rows before the User selection operation.\n",
        "df_size_before_removing_Novice_readers = df_new.shape[0]\n",
        "df_size_before_removing_Novice_readers"
      ],
      "execution_count": 37,
      "outputs": [
        {
          "output_type": "execute_result",
          "data": {
            "text/plain": [
              "264553"
            ]
          },
          "metadata": {},
          "execution_count": 37
        }
      ]
    },
    {
      "cell_type": "code",
      "metadata": {
        "id": "wAGSVgLlTP7z"
      },
      "source": [
        "# Storing the value counts of User-ID's in a new variable named counts1\n",
        "counts1 = df_new['User-ID'].value_counts()\n",
        "\n",
        "# Removing the User-ID's which have rated less than 10 books.\n",
        "df1= df_new[df_new['User-ID'].isin(counts1[counts1 >= 15].index)].reset_index()\n",
        "df1.drop(columns='index', inplace=True)"
      ],
      "execution_count": 38,
      "outputs": []
    },
    {
      "cell_type": "code",
      "metadata": {
        "colab": {
          "base_uri": "https://localhost:8080/"
        },
        "id": "n5hIvUMkMf8H",
        "outputId": "ebd5a4a9-90c8-4f73-930e-dd736e7e8187"
      },
      "source": [
        "# Size of dataset rows after the User selection operation.\n",
        "df_size_after_removing_Novice_readers = df1.shape[0]\n",
        "df_size_after_removing_Novice_readers"
      ],
      "execution_count": 39,
      "outputs": [
        {
          "output_type": "execute_result",
          "data": {
            "text/plain": [
              "173569"
            ]
          },
          "metadata": {},
          "execution_count": 39
        }
      ]
    },
    {
      "cell_type": "code",
      "metadata": {
        "colab": {
          "base_uri": "https://localhost:8080/"
        },
        "id": "rVv8mnbiTQn8",
        "outputId": "b2d3fa82-015e-4fcf-bf6c-0d12ad9d00f2"
      },
      "source": [
        "# Percentage of Data lost while removing the noice readers.\n",
        "percentage_of_data_lost_after_removing_Novice_readers = (df_size_before_removing_Novice_readers - df_size_after_removing_Novice_readers)*100/df_size_before_removing_Novice_readers\n",
        "percentage_of_data_lost_after_removing_Novice_readers"
      ],
      "execution_count": 40,
      "outputs": [
        {
          "output_type": "execute_result",
          "data": {
            "text/plain": [
              "34.39159639089332"
            ]
          },
          "metadata": {},
          "execution_count": 40
        }
      ]
    },
    {
      "cell_type": "code",
      "metadata": {
        "colab": {
          "base_uri": "https://localhost:8080/"
        },
        "id": "zg2oOWAeZFOn",
        "outputId": "4545ec13-fcef-47e9-c598-c862cb55d52e"
      },
      "source": [
        "df1.shape"
      ],
      "execution_count": 41,
      "outputs": [
        {
          "output_type": "execute_result",
          "data": {
            "text/plain": [
              "(173569, 9)"
            ]
          },
          "metadata": {},
          "execution_count": 41
        }
      ]
    },
    {
      "cell_type": "markdown",
      "metadata": {
        "id": "H1mcymMWayg4"
      },
      "source": [
        "# **Adding a new feature average Rating in the dataset:-**"
      ]
    },
    {
      "cell_type": "code",
      "metadata": {
        "id": "TuyfpF4WbS7p"
      },
      "source": [
        "# Calculating the rating count and mean rating given to each book by the user.\n",
        "\n",
        "rating_count = df1.groupby('Book-Title')['Book-Rating'].count().to_frame()\n",
        "rating_mean = df1.groupby('Book-Title')['Book-Rating'].mean().to_frame()"
      ],
      "execution_count": 42,
      "outputs": []
    },
    {
      "cell_type": "code",
      "metadata": {
        "id": "U0KLV4hlbSwL"
      },
      "source": [
        "# Renaming the column names before merging them with the final dataset.\n",
        "\n",
        "rating_count.rename(columns={'Book-Rating':'Rating-Count'}, inplace=True)\n",
        "rating_mean.rename(columns={'Book-Rating':'Rating-Mean'}, inplace=True)"
      ],
      "execution_count": 43,
      "outputs": []
    },
    {
      "cell_type": "code",
      "metadata": {
        "id": "ahhxcaVUbSqL"
      },
      "source": [
        "df1 = pd.merge(df1, rating_count, on='Book-Title', how='inner')\n",
        "df1 = pd.merge(df1, rating_mean, on='Book-Title', how='inner')"
      ],
      "execution_count": 44,
      "outputs": []
    },
    {
      "cell_type": "code",
      "metadata": {
        "colab": {
          "base_uri": "https://localhost:8080/",
          "height": 304
        },
        "id": "1ztDwaSrcp33",
        "outputId": "e4ef6759-21a7-492a-d365-f0bf4d5d3bc2"
      },
      "source": [
        "df1.head()"
      ],
      "execution_count": 45,
      "outputs": [
        {
          "output_type": "execute_result",
          "data": {
            "text/html": [
              "<div>\n",
              "<style scoped>\n",
              "    .dataframe tbody tr th:only-of-type {\n",
              "        vertical-align: middle;\n",
              "    }\n",
              "\n",
              "    .dataframe tbody tr th {\n",
              "        vertical-align: top;\n",
              "    }\n",
              "\n",
              "    .dataframe thead th {\n",
              "        text-align: right;\n",
              "    }\n",
              "</style>\n",
              "<table border=\"1\" class=\"dataframe\">\n",
              "  <thead>\n",
              "    <tr style=\"text-align: right;\">\n",
              "      <th></th>\n",
              "      <th>User-ID</th>\n",
              "      <th>Location</th>\n",
              "      <th>Age</th>\n",
              "      <th>ISBN</th>\n",
              "      <th>Book-Rating</th>\n",
              "      <th>Book-Title</th>\n",
              "      <th>Book-Author</th>\n",
              "      <th>Year-Of-Publication</th>\n",
              "      <th>Publisher</th>\n",
              "      <th>Rating-Count</th>\n",
              "      <th>Rating-Mean</th>\n",
              "    </tr>\n",
              "  </thead>\n",
              "  <tbody>\n",
              "    <tr>\n",
              "      <th>0</th>\n",
              "      <td>219008</td>\n",
              "      <td>halifax, nova scotia, canada</td>\n",
              "      <td>60</td>\n",
              "      <td>0002005018</td>\n",
              "      <td>7</td>\n",
              "      <td>Clara Callan</td>\n",
              "      <td>Richard Bruce Wright</td>\n",
              "      <td>2001.0</td>\n",
              "      <td>HarperFlamingo Canada</td>\n",
              "      <td>2</td>\n",
              "      <td>6.500000</td>\n",
              "    </tr>\n",
              "    <tr>\n",
              "      <th>1</th>\n",
              "      <td>263325</td>\n",
              "      <td>fredericton, new brunswick, canada</td>\n",
              "      <td>27</td>\n",
              "      <td>0002005018</td>\n",
              "      <td>6</td>\n",
              "      <td>Clara Callan</td>\n",
              "      <td>Richard Bruce Wright</td>\n",
              "      <td>2001.0</td>\n",
              "      <td>HarperFlamingo Canada</td>\n",
              "      <td>2</td>\n",
              "      <td>6.500000</td>\n",
              "    </tr>\n",
              "    <tr>\n",
              "      <th>2</th>\n",
              "      <td>35704</td>\n",
              "      <td>kansas city, missouri, usa</td>\n",
              "      <td>53</td>\n",
              "      <td>0374157065</td>\n",
              "      <td>6</td>\n",
              "      <td>Flu: The Story of the Great Influenza Pandemic...</td>\n",
              "      <td>Gina Bari Kolata</td>\n",
              "      <td>1999.0</td>\n",
              "      <td>Farrar Straus Giroux</td>\n",
              "      <td>3</td>\n",
              "      <td>8.333333</td>\n",
              "    </tr>\n",
              "    <tr>\n",
              "      <th>3</th>\n",
              "      <td>110912</td>\n",
              "      <td>milpitas, california, usa</td>\n",
              "      <td>36</td>\n",
              "      <td>0374157065</td>\n",
              "      <td>10</td>\n",
              "      <td>Flu: The Story of the Great Influenza Pandemic...</td>\n",
              "      <td>Gina Bari Kolata</td>\n",
              "      <td>1999.0</td>\n",
              "      <td>Farrar Straus Giroux</td>\n",
              "      <td>3</td>\n",
              "      <td>8.333333</td>\n",
              "    </tr>\n",
              "    <tr>\n",
              "      <th>4</th>\n",
              "      <td>197659</td>\n",
              "      <td>indiana, pennsylvania, usa</td>\n",
              "      <td>49</td>\n",
              "      <td>0374157065</td>\n",
              "      <td>9</td>\n",
              "      <td>Flu: The Story of the Great Influenza Pandemic...</td>\n",
              "      <td>Gina Bari Kolata</td>\n",
              "      <td>1999.0</td>\n",
              "      <td>Farrar Straus Giroux</td>\n",
              "      <td>3</td>\n",
              "      <td>8.333333</td>\n",
              "    </tr>\n",
              "  </tbody>\n",
              "</table>\n",
              "</div>"
            ],
            "text/plain": [
              "   User-ID                            Location  ... Rating-Count Rating-Mean\n",
              "0   219008        halifax, nova scotia, canada  ...            2    6.500000\n",
              "1   263325  fredericton, new brunswick, canada  ...            2    6.500000\n",
              "2    35704          kansas city, missouri, usa  ...            3    8.333333\n",
              "3   110912           milpitas, california, usa  ...            3    8.333333\n",
              "4   197659          indiana, pennsylvania, usa  ...            3    8.333333\n",
              "\n",
              "[5 rows x 11 columns]"
            ]
          },
          "metadata": {},
          "execution_count": 45
        }
      ]
    },
    {
      "cell_type": "code",
      "metadata": {
        "id": "MVhUp9aQcpqq"
      },
      "source": [
        "# rounding off the rating mean feature to 2 decimal points\n",
        "df1['Rating-Mean'] = df1['Rating-Mean'].round(2)"
      ],
      "execution_count": 46,
      "outputs": []
    },
    {
      "cell_type": "code",
      "metadata": {
        "colab": {
          "base_uri": "https://localhost:8080/",
          "height": 282
        },
        "id": "81pL1s_XcplC",
        "outputId": "ed5fa29f-bd4d-4427-f540-fe2dacca2ebc"
      },
      "source": [
        "# Visualizing the rating counts of the users. \n",
        "df1['Rating-Count'].hist(bins=[0,5,10,20,30,40,50,60,70,80,90,100])"
      ],
      "execution_count": 47,
      "outputs": [
        {
          "output_type": "execute_result",
          "data": {
            "text/plain": [
              "<matplotlib.axes._subplots.AxesSubplot at 0x7f4397513d10>"
            ]
          },
          "metadata": {},
          "execution_count": 47
        },
        {
          "output_type": "display_data",
          "data": {
            "image/png": "[encoded data removed]",
            "text/plain": [
              "<Figure size 432x288 with 1 Axes>"
            ]
          },
          "metadata": {
            "needs_background": "light"
          }
        }
      ]
    },
    {
      "cell_type": "code",
      "metadata": {
        "colab": {
          "base_uri": "https://localhost:8080/",
          "height": 282
        },
        "id": "RpgUZjGadk3v",
        "outputId": "b1224e3a-da1a-4b4a-ea12-a8e84e078aba"
      },
      "source": [
        "# Visualizing the rating counts of the users in the range between 0 to 20. \n",
        "df1['Rating-Count'].hist(bins=[0,2,4,6,8,10,12,14,16,18,20])"
      ],
      "execution_count": 48,
      "outputs": [
        {
          "output_type": "execute_result",
          "data": {
            "text/plain": [
              "<matplotlib.axes._subplots.AxesSubplot at 0x7f43974a1a50>"
            ]
          },
          "metadata": {},
          "execution_count": 48
        },
        {
          "output_type": "display_data",
          "data": {
            "image/png": "[encoded data removed]",
            "text/plain": [
              "<Figure size 432x288 with 1 Axes>"
            ]
          },
          "metadata": {
            "needs_background": "light"
          }
        }
      ]
    },
    {
      "cell_type": "markdown",
      "metadata": {
        "id": "zC5F_IuhdHNM"
      },
      "source": [
        "## **From this visualization it is evident that most users have rated between 2 to 5 books at most.**"
      ]
    },
    {
      "cell_type": "markdown",
      "metadata": {
        "id": "ZsQwg4fLep80"
      },
      "source": [
        "## **Using IMDB Formula to calculate the Weighted Rating for our books**"
      ]
    },
    {
      "cell_type": "markdown",
      "metadata": {
        "id": "qPkgpASKeoM-"
      },
      "source": [
        "![image.png](data:image/png;base64,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)"
      ]
    },
    {
      "cell_type": "code",
      "metadata": {
        "colab": {
          "base_uri": "https://localhost:8080/"
        },
        "id": "e14Av9n7d_h3",
        "outputId": "2d1fe437-9bae-4aca-85a5-2fa586a11680"
      },
      "source": [
        "# Calculating the mean vote across the whole df\n",
        "C = df1['Rating-Mean'].mean()\n",
        "C"
      ],
      "execution_count": 49,
      "outputs": [
        {
          "output_type": "execute_result",
          "data": {
            "text/plain": [
              "7.874171021322809"
            ]
          },
          "metadata": {},
          "execution_count": 49
        }
      ]
    },
    {
      "cell_type": "code",
      "metadata": {
        "colab": {
          "base_uri": "https://localhost:8080/",
          "height": 295
        },
        "id": "mRQNkAd4fRuz",
        "outputId": "cc7d67cd-e2d4-4ce5-d482-ec679746f20f"
      },
      "source": [
        "rating_count.describe()"
      ],
      "execution_count": 50,
      "outputs": [
        {
          "output_type": "execute_result",
          "data": {
            "text/html": [
              "<div>\n",
              "<style scoped>\n",
              "    .dataframe tbody tr th:only-of-type {\n",
              "        vertical-align: middle;\n",
              "    }\n",
              "\n",
              "    .dataframe tbody tr th {\n",
              "        vertical-align: top;\n",
              "    }\n",
              "\n",
              "    .dataframe thead th {\n",
              "        text-align: right;\n",
              "    }\n",
              "</style>\n",
              "<table border=\"1\" class=\"dataframe\">\n",
              "  <thead>\n",
              "    <tr style=\"text-align: right;\">\n",
              "      <th></th>\n",
              "      <th>Rating-Count</th>\n",
              "    </tr>\n",
              "  </thead>\n",
              "  <tbody>\n",
              "    <tr>\n",
              "      <th>count</th>\n",
              "      <td>82958.000000</td>\n",
              "    </tr>\n",
              "    <tr>\n",
              "      <th>mean</th>\n",
              "      <td>2.092252</td>\n",
              "    </tr>\n",
              "    <tr>\n",
              "      <th>std</th>\n",
              "      <td>4.449790</td>\n",
              "    </tr>\n",
              "    <tr>\n",
              "      <th>min</th>\n",
              "      <td>1.000000</td>\n",
              "    </tr>\n",
              "    <tr>\n",
              "      <th>25%</th>\n",
              "      <td>1.000000</td>\n",
              "    </tr>\n",
              "    <tr>\n",
              "      <th>50%</th>\n",
              "      <td>1.000000</td>\n",
              "    </tr>\n",
              "    <tr>\n",
              "      <th>75%</th>\n",
              "      <td>2.000000</td>\n",
              "    </tr>\n",
              "    <tr>\n",
              "      <th>max</th>\n",
              "      <td>223.000000</td>\n",
              "    </tr>\n",
              "  </tbody>\n",
              "</table>\n",
              "</div>"
            ],
            "text/plain": [
              "       Rating-Count\n",
              "count  82958.000000\n",
              "mean       2.092252\n",
              "std        4.449790\n",
              "min        1.000000\n",
              "25%        1.000000\n",
              "50%        1.000000\n",
              "75%        2.000000\n",
              "max      223.000000"
            ]
          },
          "metadata": {},
          "execution_count": 50
        }
      ]
    },
    {
      "cell_type": "code",
      "metadata": {
        "colab": {
          "base_uri": "https://localhost:8080/"
        },
        "id": "aOzfW9UUfXPV",
        "outputId": "7ef6b64a-4b32-443b-f2fc-c7c037be9719"
      },
      "source": [
        "# Calculating the minimum votes required to be listed in the top 5%\n",
        "m = rating_count.quantile(.95)[0]\n",
        "m"
      ],
      "execution_count": 51,
      "outputs": [
        {
          "output_type": "execute_result",
          "data": {
            "text/plain": [
              "6.0"
            ]
          },
          "metadata": {},
          "execution_count": 51
        }
      ]
    },
    {
      "cell_type": "code",
      "metadata": {
        "id": "w3wvSJwyd_e9"
      },
      "source": [
        "# IMDB formula; source: https://tutorialedge.net/python/building-imdb-top-250-clone-pandas/\n",
        "def weighted_rating(x, m=m, C=C):\n",
        "    v = x['Rating-Count']\n",
        "    R = x['Rating-Mean']\n",
        "\n",
        "    return (v/(v+m) * R) + (m/(m+v) * C)"
      ],
      "execution_count": 52,
      "outputs": []
    },
    {
      "cell_type": "code",
      "metadata": {
        "colab": {
          "base_uri": "https://localhost:8080/"
        },
        "id": "t-U-gbaed_ax",
        "outputId": "52ce2c28-5f40-47af-8230-89f6500757f8"
      },
      "source": [
        "# Create relevant sub-dataset\n",
        "df_top_10 = df1.copy().loc[df1['Rating-Count'] >= m]\n",
        "df_top_10.shape"
      ],
      "execution_count": 53,
      "outputs": [
        {
          "output_type": "execute_result",
          "data": {
            "text/plain": [
              "(61601, 11)"
            ]
          },
          "metadata": {},
          "execution_count": 53
        }
      ]
    },
    {
      "cell_type": "code",
      "metadata": {
        "id": "WWam91IRgNxN"
      },
      "source": [
        "df_top_10['Score'] = df_top_10.apply(weighted_rating, axis=1)"
      ],
      "execution_count": 54,
      "outputs": []
    },
    {
      "cell_type": "markdown",
      "metadata": {
        "id": "iFFH0N3JwuJH"
      },
      "source": [
        "# **Some Simple Recommendation Systems:-**"
      ]
    },
    {
      "cell_type": "markdown",
      "metadata": {
        "id": "a1LpfjG-tsCL"
      },
      "source": [
        "## **Recommendations Based upon Top 10 Highest Rated Books**"
      ]
    },
    {
      "cell_type": "code",
      "metadata": {
        "colab": {
          "base_uri": "https://localhost:8080/",
          "height": 388
        },
        "id": "Aa4rDXVmgTj3",
        "outputId": "69d630bf-5424-421b-bbfa-042a0cade536"
      },
      "source": [
        "top_rated = df_top_10[['Book-Title', 'Rating-Mean']]\n",
        "top_rated = top_rated.groupby(['Book-Title'])['Rating-Mean'].mean().to_frame()\n",
        "top_rated.sort_values(by='Rating-Mean', ascending=False).head(10)"
      ],
      "execution_count": 55,
      "outputs": [
        {
          "output_type": "execute_result",
          "data": {
            "text/html": [
              "<div>\n",
              "<style scoped>\n",
              "    .dataframe tbody tr th:only-of-type {\n",
              "        vertical-align: middle;\n",
              "    }\n",
              "\n",
              "    .dataframe tbody tr th {\n",
              "        vertical-align: top;\n",
              "    }\n",
              "\n",
              "    .dataframe thead th {\n",
              "        text-align: right;\n",
              "    }\n",
              "</style>\n",
              "<table border=\"1\" class=\"dataframe\">\n",
              "  <thead>\n",
              "    <tr style=\"text-align: right;\">\n",
              "      <th></th>\n",
              "      <th>Rating-Mean</th>\n",
              "    </tr>\n",
              "    <tr>\n",
              "      <th>Book-Title</th>\n",
              "      <th></th>\n",
              "    </tr>\n",
              "  </thead>\n",
              "  <tbody>\n",
              "    <tr>\n",
              "      <th>Dilbert: A Book of Postcards</th>\n",
              "      <td>9.90</td>\n",
              "    </tr>\n",
              "    <tr>\n",
              "      <th>Ranma 1/2 (Ranma 1/2)</th>\n",
              "      <td>9.89</td>\n",
              "    </tr>\n",
              "    <tr>\n",
              "      <th>The Lorax</th>\n",
              "      <td>9.88</td>\n",
              "    </tr>\n",
              "    <tr>\n",
              "      <th>The Giving Tree</th>\n",
              "      <td>9.88</td>\n",
              "    </tr>\n",
              "    <tr>\n",
              "      <th>Harry Potter and the Chamber of Secrets Postcard Book</th>\n",
              "      <td>9.83</td>\n",
              "    </tr>\n",
              "    <tr>\n",
              "      <th>The World According to Mister Rogers</th>\n",
              "      <td>9.83</td>\n",
              "    </tr>\n",
              "    <tr>\n",
              "      <th>Harry Potter Und Der Feuerkelch</th>\n",
              "      <td>9.83</td>\n",
              "    </tr>\n",
              "    <tr>\n",
              "      <th>Mere Christianity: A revised and enlarged edition, with a new introduction, of the three books, The case for Christianity, Christian behaviour, and Beyond personality</th>\n",
              "      <td>9.83</td>\n",
              "    </tr>\n",
              "    <tr>\n",
              "      <th>Old Possum's Book of Practical Cats, Illustrated Edition</th>\n",
              "      <td>9.80</td>\n",
              "    </tr>\n",
              "    <tr>\n",
              "      <th>Jane Eyre</th>\n",
              "      <td>9.75</td>\n",
              "    </tr>\n",
              "  </tbody>\n",
              "</table>\n",
              "</div>"
            ],
            "text/plain": [
              "                                                    Rating-Mean\n",
              "Book-Title                                                     \n",
              "Dilbert: A Book of Postcards                               9.90\n",
              "Ranma 1/2 (Ranma 1/2)                                      9.89\n",
              "The Lorax                                                  9.88\n",
              "The Giving Tree                                            9.88\n",
              "Harry Potter and the Chamber of Secrets Postcar...         9.83\n",
              "The World According to Mister Rogers                       9.83\n",
              "Harry Potter Und Der Feuerkelch                            9.83\n",
              "Mere Christianity: A revised and enlarged editi...         9.83\n",
              "Old Possum's Book of Practical Cats, Illustrate...         9.80\n",
              "Jane Eyre                                                  9.75"
            ]
          },
          "metadata": {},
          "execution_count": 55
        }
      ]
    },
    {
      "cell_type": "markdown",
      "metadata": {
        "id": "7YoyWSa4uWyX"
      },
      "source": [
        "## **Recommendations Based upon Top 10 Most Rated Books by the Users**"
      ]
    },
    {
      "cell_type": "code",
      "metadata": {
        "colab": {
          "base_uri": "https://localhost:8080/",
          "height": 388
        },
        "id": "kdgnhYyeumNp",
        "outputId": "9cbadaaa-53ca-451c-cf1a-17663bf20a09"
      },
      "source": [
        "top_popular_Books = df_top_10[['Book-Title', 'Rating-Count']]\n",
        "top_popular_Books = top_popular_Books.groupby(['Book-Title'])['Rating-Count'].mean().to_frame()\n",
        "top_popular_Books.sort_values(by='Rating-Count', ascending=False).head(10)#.plot(kind='barh')"
      ],
      "execution_count": 56,
      "outputs": [
        {
          "output_type": "execute_result",
          "data": {
            "text/html": [
              "<div>\n",
              "<style scoped>\n",
              "    .dataframe tbody tr th:only-of-type {\n",
              "        vertical-align: middle;\n",
              "    }\n",
              "\n",
              "    .dataframe tbody tr th {\n",
              "        vertical-align: top;\n",
              "    }\n",
              "\n",
              "    .dataframe thead th {\n",
              "        text-align: right;\n",
              "    }\n",
              "</style>\n",
              "<table border=\"1\" class=\"dataframe\">\n",
              "  <thead>\n",
              "    <tr style=\"text-align: right;\">\n",
              "      <th></th>\n",
              "      <th>Rating-Count</th>\n",
              "    </tr>\n",
              "    <tr>\n",
              "      <th>Book-Title</th>\n",
              "      <th></th>\n",
              "    </tr>\n",
              "  </thead>\n",
              "  <tbody>\n",
              "    <tr>\n",
              "      <th>The Lovely Bones: A Novel</th>\n",
              "      <td>223</td>\n",
              "    </tr>\n",
              "    <tr>\n",
              "      <th>The Da Vinci Code</th>\n",
              "      <td>179</td>\n",
              "    </tr>\n",
              "    <tr>\n",
              "      <th>Harry Potter and the Chamber of Secrets (Book 2)</th>\n",
              "      <td>171</td>\n",
              "    </tr>\n",
              "    <tr>\n",
              "      <th>Harry Potter and the Prisoner of Azkaban (Book 3)</th>\n",
              "      <td>147</td>\n",
              "    </tr>\n",
              "    <tr>\n",
              "      <th>The Secret Life of Bees</th>\n",
              "      <td>143</td>\n",
              "    </tr>\n",
              "    <tr>\n",
              "      <th>Bridget Jones's Diary</th>\n",
              "      <td>143</td>\n",
              "    </tr>\n",
              "    <tr>\n",
              "      <th>Harry Potter and the Goblet of Fire (Book 4)</th>\n",
              "      <td>135</td>\n",
              "    </tr>\n",
              "    <tr>\n",
              "      <th>Harry Potter and the Order of the Phoenix (Book 5)</th>\n",
              "      <td>132</td>\n",
              "    </tr>\n",
              "    <tr>\n",
              "      <th>Life of Pi</th>\n",
              "      <td>130</td>\n",
              "    </tr>\n",
              "    <tr>\n",
              "      <th>To Kill a Mockingbird</th>\n",
              "      <td>128</td>\n",
              "    </tr>\n",
              "  </tbody>\n",
              "</table>\n",
              "</div>"
            ],
            "text/plain": [
              "                                                    Rating-Count\n",
              "Book-Title                                                      \n",
              "The Lovely Bones: A Novel                                    223\n",
              "The Da Vinci Code                                            179\n",
              "Harry Potter and the Chamber of Secrets (Book 2)             171\n",
              "Harry Potter and the Prisoner of Azkaban (Book 3)            147\n",
              "The Secret Life of Bees                                      143\n",
              "Bridget Jones's Diary                                        143\n",
              "Harry Potter and the Goblet of Fire (Book 4)                 135\n",
              "Harry Potter and the Order of the Phoenix (Book 5)           132\n",
              "Life of Pi                                                   130\n",
              "To Kill a Mockingbird                                        128"
            ]
          },
          "metadata": {},
          "execution_count": 56
        }
      ]
    },
    {
      "cell_type": "markdown",
      "metadata": {
        "id": "MeyyQ8crqlJA"
      },
      "source": [
        "## **Recommending Books Based Upon Publishers:-**"
      ]
    },
    {
      "cell_type": "code",
      "metadata": {
        "id": "3GTKM3OVgQkV"
      },
      "source": [
        "from __future__ import print_function\n",
        "from ipywidgets import interact, interactive, fixed, interact_manual\n",
        "import ipywidgets as widgets"
      ],
      "execution_count": 57,
      "outputs": []
    },
    {
      "cell_type": "code",
      "metadata": {
        "id": "qF2AfLezqMag",
        "colab": {
          "base_uri": "https://localhost:8080/",
          "height": 420,
          "referenced_widgets": [
            "a0a32a92c96749f48c829c2282ee11dc",
            "2788776111aa4c2bab9d2bfb2ba47150",
            "9a9ba9c9806b4b82be3fb5d00e519355",
            "3376b55ca1bd4d62a30c4c281b0c013d",
            "dfd630440513423889807a957ee255fd",
            "968f9c40613049bd84db0d83d8ce26c0",
            "f0a350b26c2a46f98f8a5f59c4d4ae52"
          ]
        },
        "outputId": "fb0cb433-fcaf-4313-b43a-c920fcfc7b67"
      },
      "source": [
        "# Recommending Books Based Upon Publishers:-\n",
        "@interact\n",
        "def recommend_books_based_upon_publishers( publishers = list(df_top_10['Publisher'].value_counts().index)):\n",
        "  a = df_top_10[df_top_10['Publisher']==publishers][['Book-Title', 'Rating-Mean']]\n",
        "  a = a.groupby(['Book-Title'])['Rating-Mean'].mean().to_frame()\n",
        "  a = a.sort_values(by = 'Rating-Mean', ascending=False)\n",
        "  return a.head(10)\n"
      ],
      "execution_count": 58,
      "outputs": [
        {
          "output_type": "display_data",
          "data": {
            "application/vnd.jupyter.widget-view+json": {
              "model_id": "a0a32a92c96749f48c829c2282ee11dc",
              "version_minor": 0,
              "version_major": 2
            },
            "text/plain": [
              "interactive(children=(Dropdown(description='publishers', options=('Ballantine Books', 'Pocket', 'Berkley Publi…"
            ]
          },
          "metadata": {}
        }
      ]
    },
    {
      "cell_type": "markdown",
      "metadata": {
        "id": "hJy2zFmGw9te"
      },
      "source": [
        "# By using the above drop down window, you can see the books from each publishing house that lie in the top 10 % based upon the Imdb criteria that was shown above."
      ]
    },
    {
      "cell_type": "markdown",
      "metadata": {
        "id": "nGSgtwPbxu8_"
      },
      "source": [
        "# **Now Let us Build a Nearest Neighbour Model Based Recommendation System:-**"
      ]
    },
    {
      "cell_type": "code",
      "metadata": {
        "id": "XHnMCnfLyihe"
      },
      "source": [
        "df_Knn = df1.copy()"
      ],
      "execution_count": 59,
      "outputs": []
    },
    {
      "cell_type": "code",
      "metadata": {
        "id": "5kE6z9xfumII"
      },
      "source": [
        "df_Knn['Score'] = df1.apply(weighted_rating, axis=1)"
      ],
      "execution_count": 60,
      "outputs": []
    },
    {
      "cell_type": "code",
      "metadata": {
        "colab": {
          "base_uri": "https://localhost:8080/",
          "height": 304
        },
        "id": "eBv0Gg6yumFd",
        "outputId": "828903fb-df4e-46bc-a594-cbf815ee592b"
      },
      "source": [
        "df_Knn.head()"
      ],
      "execution_count": 61,
      "outputs": [
        {
          "output_type": "execute_result",
          "data": {
            "text/html": [
              "<div>\n",
              "<style scoped>\n",
              "    .dataframe tbody tr th:only-of-type {\n",
              "        vertical-align: middle;\n",
              "    }\n",
              "\n",
              "    .dataframe tbody tr th {\n",
              "        vertical-align: top;\n",
              "    }\n",
              "\n",
              "    .dataframe thead th {\n",
              "        text-align: right;\n",
              "    }\n",
              "</style>\n",
              "<table border=\"1\" class=\"dataframe\">\n",
              "  <thead>\n",
              "    <tr style=\"text-align: right;\">\n",
              "      <th></th>\n",
              "      <th>User-ID</th>\n",
              "      <th>Location</th>\n",
              "      <th>Age</th>\n",
              "      <th>ISBN</th>\n",
              "      <th>Book-Rating</th>\n",
              "      <th>Book-Title</th>\n",
              "      <th>Book-Author</th>\n",
              "      <th>Year-Of-Publication</th>\n",
              "      <th>Publisher</th>\n",
              "      <th>Rating-Count</th>\n",
              "      <th>Rating-Mean</th>\n",
              "      <th>Score</th>\n",
              "    </tr>\n",
              "  </thead>\n",
              "  <tbody>\n",
              "    <tr>\n",
              "      <th>0</th>\n",
              "      <td>219008</td>\n",
              "      <td>halifax, nova scotia, canada</td>\n",
              "      <td>60</td>\n",
              "      <td>0002005018</td>\n",
              "      <td>7</td>\n",
              "      <td>Clara Callan</td>\n",
              "      <td>Richard Bruce Wright</td>\n",
              "      <td>2001.0</td>\n",
              "      <td>HarperFlamingo Canada</td>\n",
              "      <td>2</td>\n",
              "      <td>6.50</td>\n",
              "      <td>7.530628</td>\n",
              "    </tr>\n",
              "    <tr>\n",
              "      <th>1</th>\n",
              "      <td>263325</td>\n",
              "      <td>fredericton, new brunswick, canada</td>\n",
              "      <td>27</td>\n",
              "      <td>0002005018</td>\n",
              "      <td>6</td>\n",
              "      <td>Clara Callan</td>\n",
              "      <td>Richard Bruce Wright</td>\n",
              "      <td>2001.0</td>\n",
              "      <td>HarperFlamingo Canada</td>\n",
              "      <td>2</td>\n",
              "      <td>6.50</td>\n",
              "      <td>7.530628</td>\n",
              "    </tr>\n",
              "    <tr>\n",
              "      <th>2</th>\n",
              "      <td>35704</td>\n",
              "      <td>kansas city, missouri, usa</td>\n",
              "      <td>53</td>\n",
              "      <td>0374157065</td>\n",
              "      <td>6</td>\n",
              "      <td>Flu: The Story of the Great Influenza Pandemic...</td>\n",
              "      <td>Gina Bari Kolata</td>\n",
              "      <td>1999.0</td>\n",
              "      <td>Farrar Straus Giroux</td>\n",
              "      <td>3</td>\n",
              "      <td>8.33</td>\n",
              "      <td>8.026114</td>\n",
              "    </tr>\n",
              "    <tr>\n",
              "      <th>3</th>\n",
              "      <td>110912</td>\n",
              "      <td>milpitas, california, usa</td>\n",
              "      <td>36</td>\n",
              "      <td>0374157065</td>\n",
              "      <td>10</td>\n",
              "      <td>Flu: The Story of the Great Influenza Pandemic...</td>\n",
              "      <td>Gina Bari Kolata</td>\n",
              "      <td>1999.0</td>\n",
              "      <td>Farrar Straus Giroux</td>\n",
              "      <td>3</td>\n",
              "      <td>8.33</td>\n",
              "      <td>8.026114</td>\n",
              "    </tr>\n",
              "    <tr>\n",
              "      <th>4</th>\n",
              "      <td>197659</td>\n",
              "      <td>indiana, pennsylvania, usa</td>\n",
              "      <td>49</td>\n",
              "      <td>0374157065</td>\n",
              "      <td>9</td>\n",
              "      <td>Flu: The Story of the Great Influenza Pandemic...</td>\n",
              "      <td>Gina Bari Kolata</td>\n",
              "      <td>1999.0</td>\n",
              "      <td>Farrar Straus Giroux</td>\n",
              "      <td>3</td>\n",
              "      <td>8.33</td>\n",
              "      <td>8.026114</td>\n",
              "    </tr>\n",
              "  </tbody>\n",
              "</table>\n",
              "</div>"
            ],
            "text/plain": [
              "   User-ID                            Location  ... Rating-Mean     Score\n",
              "0   219008        halifax, nova scotia, canada  ...        6.50  7.530628\n",
              "1   263325  fredericton, new brunswick, canada  ...        6.50  7.530628\n",
              "2    35704          kansas city, missouri, usa  ...        8.33  8.026114\n",
              "3   110912           milpitas, california, usa  ...        8.33  8.026114\n",
              "4   197659          indiana, pennsylvania, usa  ...        8.33  8.026114\n",
              "\n",
              "[5 rows x 12 columns]"
            ]
          },
          "metadata": {},
          "execution_count": 61
        }
      ]
    },
    {
      "cell_type": "code",
      "metadata": {
        "id": "TGMwQyuDWF8n"
      },
      "source": [
        "# Dropping the columns that aren't much useful for KNN recommendation system.\n",
        "df_Knn.drop(columns=['ISBN',\t'Book-Author',\t'Year-Of-Publication',\t'Publisher','Age','Location', 'Book-Rating', 'Rating-Count', 'Rating-Mean'], inplace=True)"
      ],
      "execution_count": 62,
      "outputs": []
    },
    {
      "cell_type": "code",
      "metadata": {
        "id": "N3YA3xOMxSa_"
      },
      "source": [
        "# Calculating the total number of books in the dataset and the number of books used in the recommendation system.\n",
        "\n",
        "Number_of_books_in_dataset = len(df_books['Book-Title'].unique())\n",
        "Number_of_books_considered_for_recommendation = len(df_Knn['Book-Title'].unique())"
      ],
      "execution_count": 63,
      "outputs": []
    },
    {
      "cell_type": "code",
      "metadata": {
        "colab": {
          "base_uri": "https://localhost:8080/"
        },
        "id": "vWxFwk9YA8T8",
        "outputId": "c151c335-d3d4-499d-db64-66a39e7213ca"
      },
      "source": [
        "# Percentage of books considered for recommendation.\n",
        "\n",
        "per_books_in_recommendation_system = (Number_of_books_considered_for_recommendation*100)/Number_of_books_in_dataset\n",
        "per_books_in_recommendation_system"
      ],
      "execution_count": 64,
      "outputs": [
        {
          "output_type": "execute_result",
          "data": {
            "text/plain": [
              "34.26105271852479"
            ]
          },
          "metadata": {},
          "execution_count": 64
        }
      ]
    },
    {
      "cell_type": "code",
      "metadata": {
        "id": "44Bo15_HZ7qi"
      },
      "source": [
        "# Building the Final dataframe for the KNN Model.\n",
        "df_final = pd.pivot_table(data=df_Knn, index='Book-Title', columns='User-ID', values='Score').fillna(0)"
      ],
      "execution_count": 65,
      "outputs": []
    },
    {
      "cell_type": "code",
      "metadata": {
        "colab": {
          "base_uri": "https://localhost:8080/"
        },
        "id": "1F0kfY5eaMvN",
        "outputId": "3c7c4c14-61d7-434b-d3b5-740a22a66c62"
      },
      "source": [
        "df_final.shape"
      ],
      "execution_count": 66,
      "outputs": [
        {
          "output_type": "execute_result",
          "data": {
            "text/plain": [
              "(82958, 3309)"
            ]
          },
          "metadata": {},
          "execution_count": 66
        }
      ]
    },
    {
      "cell_type": "code",
      "metadata": {
        "colab": {
          "base_uri": "https://localhost:8080/",
          "height": 506
        },
        "id": "HXBaPtex330e",
        "outputId": "c0146f0b-ab44-4bb7-d382-6c042f4adef7"
      },
      "source": [
        "# Visualizing the sparse matrix formed with Book-Title as rows and User-Id's as columns\n",
        "df_final.head(3)"
      ],
      "execution_count": 67,
      "outputs": [
        {
          "output_type": "execute_result",
          "data": {
            "text/html": [
              "<div>\n",
              "<style scoped>\n",
              "    .dataframe tbody tr th:only-of-type {\n",
              "        vertical-align: middle;\n",
              "    }\n",
              "\n",
              "    .dataframe tbody tr th {\n",
              "        vertical-align: top;\n",
              "    }\n",
              "\n",
              "    .dataframe thead th {\n",
              "        text-align: right;\n",
              "    }\n",
              "</style>\n",
              "<table border=\"1\" class=\"dataframe\">\n",
              "  <thead>\n",
              "    <tr style=\"text-align: right;\">\n",
              "      <th>User-ID</th>\n",
              "      <th>242</th>\n",
              "      <th>254</th>\n",
              "      <th>388</th>\n",
              "      <th>503</th>\n",
              "      <th>638</th>\n",
              "      <th>643</th>\n",
              "      <th>651</th>\n",
              "      <th>709</th>\n",
              "      <th>741</th>\n",
              "      <th>805</th>\n",
              "      <th>882</th>\n",
              "      <th>929</th>\n",
              "      <th>1025</th>\n",
              "      <th>1131</th>\n",
              "      <th>1211</th>\n",
              "      <th>1435</th>\n",
              "      <th>1548</th>\n",
              "      <th>1585</th>\n",
              "      <th>1674</th>\n",
              "      <th>1733</th>\n",
              "      <th>1848</th>\n",
              "      <th>1903</th>\n",
              "      <th>2024</th>\n",
              "      <th>2030</th>\n",
              "      <th>2033</th>\n",
              "      <th>2179</th>\n",
              "      <th>2276</th>\n",
              "      <th>2313</th>\n",
              "      <th>2337</th>\n",
              "      <th>2358</th>\n",
              "      <th>2363</th>\n",
              "      <th>2766</th>\n",
              "      <th>2977</th>\n",
              "      <th>3145</th>\n",
              "      <th>3167</th>\n",
              "      <th>3282</th>\n",
              "      <th>3346</th>\n",
              "      <th>3363</th>\n",
              "      <th>3371</th>\n",
              "      <th>3373</th>\n",
              "      <th>...</th>\n",
              "      <th>274656</th>\n",
              "      <th>274808</th>\n",
              "      <th>275111</th>\n",
              "      <th>275210</th>\n",
              "      <th>275220</th>\n",
              "      <th>275306</th>\n",
              "      <th>275383</th>\n",
              "      <th>275922</th>\n",
              "      <th>275970</th>\n",
              "      <th>276017</th>\n",
              "      <th>276038</th>\n",
              "      <th>276050</th>\n",
              "      <th>276165</th>\n",
              "      <th>276307</th>\n",
              "      <th>276313</th>\n",
              "      <th>276463</th>\n",
              "      <th>276487</th>\n",
              "      <th>276521</th>\n",
              "      <th>276538</th>\n",
              "      <th>276579</th>\n",
              "      <th>276641</th>\n",
              "      <th>276670</th>\n",
              "      <th>276680</th>\n",
              "      <th>276847</th>\n",
              "      <th>276929</th>\n",
              "      <th>276964</th>\n",
              "      <th>277157</th>\n",
              "      <th>277203</th>\n",
              "      <th>277427</th>\n",
              "      <th>277478</th>\n",
              "      <th>277523</th>\n",
              "      <th>277639</th>\n",
              "      <th>277928</th>\n",
              "      <th>277929</th>\n",
              "      <th>278026</th>\n",
              "      <th>278137</th>\n",
              "      <th>278188</th>\n",
              "      <th>278221</th>\n",
              "      <th>278356</th>\n",
              "      <th>278843</th>\n",
              "    </tr>\n",
              "    <tr>\n",
              "      <th>Book-Title</th>\n",
              "      <th></th>\n",
              "      <th></th>\n",
              "      <th></th>\n",
              "      <th></th>\n",
              "      <th></th>\n",
              "      <th></th>\n",
              "      <th></th>\n",
              "      <th></th>\n",
              "      <th></th>\n",
              "      <th></th>\n",
              "      <th></th>\n",
              "      <th></th>\n",
              "      <th></th>\n",
              "      <th></th>\n",
              "      <th></th>\n",
              "      <th></th>\n",
              "      <th></th>\n",
              "      <th></th>\n",
              "      <th></th>\n",
              "      <th></th>\n",
              "      <th></th>\n",
              "      <th></th>\n",
              "      <th></th>\n",
              "      <th></th>\n",
              "      <th></th>\n",
              "      <th></th>\n",
              "      <th></th>\n",
              "      <th></th>\n",
              "      <th></th>\n",
              "      <th></th>\n",
              "      <th></th>\n",
              "      <th></th>\n",
              "      <th></th>\n",
              "      <th></th>\n",
              "      <th></th>\n",
              "      <th></th>\n",
              "      <th></th>\n",
              "      <th></th>\n",
              "      <th></th>\n",
              "      <th></th>\n",
              "      <th></th>\n",
              "      <th></th>\n",
              "      <th></th>\n",
              "      <th></th>\n",
              "      <th></th>\n",
              "      <th></th>\n",
              "      <th></th>\n",
              "      <th></th>\n",
              "      <th></th>\n",
              "      <th></th>\n",
              "      <th></th>\n",
              "      <th></th>\n",
              "      <th></th>\n",
              "      <th></th>\n",
              "      <th></th>\n",
              "      <th></th>\n",
              "      <th></th>\n",
              "      <th></th>\n",
              "      <th></th>\n",
              "      <th></th>\n",
              "      <th></th>\n",
              "      <th></th>\n",
              "      <th></th>\n",
              "      <th></th>\n",
              "      <th></th>\n",
              "      <th></th>\n",
              "      <th></th>\n",
              "      <th></th>\n",
              "      <th></th>\n",
              "      <th></th>\n",
              "      <th></th>\n",
              "      <th></th>\n",
              "      <th></th>\n",
              "      <th></th>\n",
              "      <th></th>\n",
              "      <th></th>\n",
              "      <th></th>\n",
              "      <th></th>\n",
              "      <th></th>\n",
              "      <th></th>\n",
              "      <th></th>\n",
              "    </tr>\n",
              "  </thead>\n",
              "  <tbody>\n",
              "    <tr>\n",
              "      <th>Ask Lily (Young Women of Faith: Lily Series, Book 5)</th>\n",
              "      <td>0.0</td>\n",
              "      <td>0.0</td>\n",
              "      <td>0.0</td>\n",
              "      <td>0.0</td>\n",
              "      <td>0.0</td>\n",
              "      <td>0.0</td>\n",
              "      <td>0.0</td>\n",
              "      <td>0.0</td>\n",
              "      <td>0.0</td>\n",
              "      <td>0.0</td>\n",
              "      <td>0.0</td>\n",
              "      <td>0.0</td>\n",
              "      <td>0.0</td>\n",
              "      <td>0.0</td>\n",
              "      <td>0.0</td>\n",
              "      <td>0.0</td>\n",
              "      <td>0.0</td>\n",
              "      <td>0.0</td>\n",
              "      <td>0.0</td>\n",
              "      <td>0.0</td>\n",
              "      <td>0.0</td>\n",
              "      <td>0.0</td>\n",
              "      <td>0.0</td>\n",
              "      <td>0.0</td>\n",
              "      <td>0.0</td>\n",
              "      <td>0.0</td>\n",
              "      <td>0.0</td>\n",
              "      <td>0.0</td>\n",
              "      <td>0.0</td>\n",
              "      <td>0.0</td>\n",
              "      <td>0.0</td>\n",
              "      <td>0.0</td>\n",
              "      <td>0.0</td>\n",
              "      <td>0.0</td>\n",
              "      <td>0.0</td>\n",
              "      <td>0.0</td>\n",
              "      <td>0.0</td>\n",
              "      <td>0.0</td>\n",
              "      <td>0.0</td>\n",
              "      <td>0.0</td>\n",
              "      <td>...</td>\n",
              "      <td>0.0</td>\n",
              "      <td>0.0</td>\n",
              "      <td>0.0</td>\n",
              "      <td>0.0</td>\n",
              "      <td>0.0</td>\n",
              "      <td>0.0</td>\n",
              "      <td>0.0</td>\n",
              "      <td>0.0</td>\n",
              "      <td>0.0</td>\n",
              "      <td>0.0</td>\n",
              "      <td>0.0</td>\n",
              "      <td>0.0</td>\n",
              "      <td>0.0</td>\n",
              "      <td>0.0</td>\n",
              "      <td>0.0</td>\n",
              "      <td>0.0</td>\n",
              "      <td>0.0</td>\n",
              "      <td>0.0</td>\n",
              "      <td>0.0</td>\n",
              "      <td>0.0</td>\n",
              "      <td>0.0</td>\n",
              "      <td>0.0</td>\n",
              "      <td>0.0</td>\n",
              "      <td>0.0</td>\n",
              "      <td>0.0</td>\n",
              "      <td>0.0</td>\n",
              "      <td>0.0</td>\n",
              "      <td>0.0</td>\n",
              "      <td>0.0</td>\n",
              "      <td>0.0</td>\n",
              "      <td>0.0</td>\n",
              "      <td>0.0</td>\n",
              "      <td>0.0</td>\n",
              "      <td>0.0</td>\n",
              "      <td>0.0</td>\n",
              "      <td>0.0</td>\n",
              "      <td>0.0</td>\n",
              "      <td>0.0</td>\n",
              "      <td>0.0</td>\n",
              "      <td>0.0</td>\n",
              "    </tr>\n",
              "    <tr>\n",
              "      <th>Dark Justice</th>\n",
              "      <td>0.0</td>\n",
              "      <td>0.0</td>\n",
              "      <td>0.0</td>\n",
              "      <td>0.0</td>\n",
              "      <td>0.0</td>\n",
              "      <td>0.0</td>\n",
              "      <td>0.0</td>\n",
              "      <td>0.0</td>\n",
              "      <td>0.0</td>\n",
              "      <td>0.0</td>\n",
              "      <td>0.0</td>\n",
              "      <td>0.0</td>\n",
              "      <td>0.0</td>\n",
              "      <td>0.0</td>\n",
              "      <td>0.0</td>\n",
              "      <td>0.0</td>\n",
              "      <td>0.0</td>\n",
              "      <td>0.0</td>\n",
              "      <td>0.0</td>\n",
              "      <td>0.0</td>\n",
              "      <td>0.0</td>\n",
              "      <td>0.0</td>\n",
              "      <td>0.0</td>\n",
              "      <td>0.0</td>\n",
              "      <td>0.0</td>\n",
              "      <td>0.0</td>\n",
              "      <td>0.0</td>\n",
              "      <td>0.0</td>\n",
              "      <td>0.0</td>\n",
              "      <td>0.0</td>\n",
              "      <td>0.0</td>\n",
              "      <td>0.0</td>\n",
              "      <td>0.0</td>\n",
              "      <td>0.0</td>\n",
              "      <td>0.0</td>\n",
              "      <td>0.0</td>\n",
              "      <td>0.0</td>\n",
              "      <td>0.0</td>\n",
              "      <td>0.0</td>\n",
              "      <td>0.0</td>\n",
              "      <td>...</td>\n",
              "      <td>0.0</td>\n",
              "      <td>0.0</td>\n",
              "      <td>0.0</td>\n",
              "      <td>0.0</td>\n",
              "      <td>0.0</td>\n",
              "      <td>0.0</td>\n",
              "      <td>0.0</td>\n",
              "      <td>0.0</td>\n",
              "      <td>0.0</td>\n",
              "      <td>0.0</td>\n",
              "      <td>0.0</td>\n",
              "      <td>0.0</td>\n",
              "      <td>0.0</td>\n",
              "      <td>0.0</td>\n",
              "      <td>0.0</td>\n",
              "      <td>0.0</td>\n",
              "      <td>0.0</td>\n",
              "      <td>0.0</td>\n",
              "      <td>0.0</td>\n",
              "      <td>0.0</td>\n",
              "      <td>0.0</td>\n",
              "      <td>0.0</td>\n",
              "      <td>0.0</td>\n",
              "      <td>0.0</td>\n",
              "      <td>0.0</td>\n",
              "      <td>0.0</td>\n",
              "      <td>0.0</td>\n",
              "      <td>0.0</td>\n",
              "      <td>0.0</td>\n",
              "      <td>0.0</td>\n",
              "      <td>0.0</td>\n",
              "      <td>0.0</td>\n",
              "      <td>0.0</td>\n",
              "      <td>0.0</td>\n",
              "      <td>0.0</td>\n",
              "      <td>0.0</td>\n",
              "      <td>0.0</td>\n",
              "      <td>0.0</td>\n",
              "      <td>0.0</td>\n",
              "      <td>0.0</td>\n",
              "    </tr>\n",
              "    <tr>\n",
              "      <th>Earth Prayers From around the World: 365 Prayers, Poems, and Invocations for Honoring the Earth</th>\n",
              "      <td>0.0</td>\n",
              "      <td>0.0</td>\n",
              "      <td>0.0</td>\n",
              "      <td>0.0</td>\n",
              "      <td>0.0</td>\n",
              "      <td>0.0</td>\n",
              "      <td>0.0</td>\n",
              "      <td>0.0</td>\n",
              "      <td>0.0</td>\n",
              "      <td>0.0</td>\n",
              "      <td>0.0</td>\n",
              "      <td>0.0</td>\n",
              "      <td>0.0</td>\n",
              "      <td>0.0</td>\n",
              "      <td>0.0</td>\n",
              "      <td>0.0</td>\n",
              "      <td>0.0</td>\n",
              "      <td>0.0</td>\n",
              "      <td>0.0</td>\n",
              "      <td>0.0</td>\n",
              "      <td>0.0</td>\n",
              "      <td>0.0</td>\n",
              "      <td>0.0</td>\n",
              "      <td>0.0</td>\n",
              "      <td>0.0</td>\n",
              "      <td>0.0</td>\n",
              "      <td>0.0</td>\n",
              "      <td>0.0</td>\n",
              "      <td>0.0</td>\n",
              "      <td>0.0</td>\n",
              "      <td>0.0</td>\n",
              "      <td>0.0</td>\n",
              "      <td>0.0</td>\n",
              "      <td>0.0</td>\n",
              "      <td>0.0</td>\n",
              "      <td>0.0</td>\n",
              "      <td>0.0</td>\n",
              "      <td>0.0</td>\n",
              "      <td>0.0</td>\n",
              "      <td>0.0</td>\n",
              "      <td>...</td>\n",
              "      <td>0.0</td>\n",
              "      <td>0.0</td>\n",
              "      <td>0.0</td>\n",
              "      <td>0.0</td>\n",
              "      <td>0.0</td>\n",
              "      <td>0.0</td>\n",
              "      <td>0.0</td>\n",
              "      <td>0.0</td>\n",
              "      <td>0.0</td>\n",
              "      <td>0.0</td>\n",
              "      <td>0.0</td>\n",
              "      <td>0.0</td>\n",
              "      <td>0.0</td>\n",
              "      <td>0.0</td>\n",
              "      <td>0.0</td>\n",
              "      <td>0.0</td>\n",
              "      <td>0.0</td>\n",
              "      <td>0.0</td>\n",
              "      <td>0.0</td>\n",
              "      <td>0.0</td>\n",
              "      <td>0.0</td>\n",
              "      <td>0.0</td>\n",
              "      <td>0.0</td>\n",
              "      <td>0.0</td>\n",
              "      <td>0.0</td>\n",
              "      <td>0.0</td>\n",
              "      <td>0.0</td>\n",
              "      <td>0.0</td>\n",
              "      <td>0.0</td>\n",
              "      <td>0.0</td>\n",
              "      <td>0.0</td>\n",
              "      <td>0.0</td>\n",
              "      <td>0.0</td>\n",
              "      <td>0.0</td>\n",
              "      <td>0.0</td>\n",
              "      <td>0.0</td>\n",
              "      <td>0.0</td>\n",
              "      <td>0.0</td>\n",
              "      <td>0.0</td>\n",
              "      <td>0.0</td>\n",
              "    </tr>\n",
              "  </tbody>\n",
              "</table>\n",
              "<p>3 rows × 3309 columns</p>\n",
              "</div>"
            ],
            "text/plain": [
              "User-ID                                             242     ...  278843\n",
              "Book-Title                                                  ...        \n",
              " Ask Lily (Young Women of Faith: Lily Series, B...     0.0  ...     0.0\n",
              " Dark Justice                                          0.0  ...     0.0\n",
              " Earth Prayers From around the World: 365 Praye...     0.0  ...     0.0\n",
              "\n",
              "[3 rows x 3309 columns]"
            ]
          },
          "metadata": {},
          "execution_count": 67
        }
      ]
    },
    {
      "cell_type": "code",
      "metadata": {
        "id": "kKgTcyJT3BBI"
      },
      "source": [
        "# converting the sparse matrix into condensed matrix using scipy.sparse functionality.\n",
        "from scipy.sparse import csr_matrix\n",
        "\n",
        "df_matrix = csr_matrix(df_final.values)"
      ],
      "execution_count": 68,
      "outputs": []
    },
    {
      "cell_type": "code",
      "metadata": {
        "id": "8LVoaQ0UaN4g",
        "colab": {
          "base_uri": "https://localhost:8080/"
        },
        "outputId": "e63030ea-93d6-4635-973e-be9e312c3aa9"
      },
      "source": [
        "# Building a KNN model with Cosine Similarity as the target metric for calculating the distances.\n",
        "\n",
        "from sklearn.neighbors import NearestNeighbors\n",
        "\n",
        "model_knn = NearestNeighbors(metric = 'cosine', algorithm = 'brute', n_neighbors=5)\n",
        "model_knn.fit(df_final)"
      ],
      "execution_count": 69,
      "outputs": [
        {
          "output_type": "execute_result",
          "data": {
            "text/plain": [
              "NearestNeighbors(algorithm='brute', leaf_size=30, metric='cosine',\n",
              "                 metric_params=None, n_jobs=None, n_neighbors=5, p=2,\n",
              "                 radius=1.0)"
            ]
          },
          "metadata": {},
          "execution_count": 69
        }
      ]
    },
    {
      "cell_type": "code",
      "metadata": {
        "id": "XGk1HBWf4Y2t"
      },
      "source": [
        "# Building item to item recommendation model for the book readers\n",
        "def recommend(movie, n_values=11):\n",
        "  distances, indices = model_knn.kneighbors(df_final.loc[movie,:].values.reshape(1, -1), n_neighbors = n_values)\n",
        "  for i in range(0, len(distances.flatten())):\n",
        "    if i == 0:\n",
        "        print(f'The Top {n_values - 1} Recommendations for Users who have read book {movie} are shown below:-')\n",
        "    else:\n",
        "        print('{0}: {1}, with distance of {2}.'.format(i, df_final.index[indices.flatten()[i]], distances.flatten()[i]))"
      ],
      "execution_count": 71,
      "outputs": []
    },
    {
      "cell_type": "code",
      "metadata": {
        "colab": {
          "base_uri": "https://localhost:8080/"
        },
        "id": "Crtb_IFk5ix9",
        "outputId": "726fb572-9298-4144-ea69-aacf8c496b6a"
      },
      "source": [
        "recommend('Dark Justice')"
      ],
      "execution_count": 72,
      "outputs": [
        {
          "output_type": "stream",
          "name": "stdout",
          "text": [
            "The Top 10 Recommendations for Users who have read book Dark Justice are shown below:-\n",
            "1: Swimming to Catalina: A Novel, with distance of 0.0.\n",
            "2: Deadly Justice, with distance of 0.0.\n",
            "3: Dark Justice, with distance of 0.0.\n",
            "4: Silent Justice, with distance of 0.2928932188134524.\n",
            "5: Worst Fears Realized, with distance of 0.42264973081037416.\n",
            "6: The Final Detail, with distance of 0.42264973081037416.\n",
            "7: Extreme Justice (Ben Kincaid Series, No. 7), with distance of 0.42264973081037416.\n",
            "8: Higher Authority, with distance of 0.42264973081037427.\n",
            "9: Free Fall, with distance of 0.5.\n",
            "10: New York Dead, with distance of 0.5.\n"
          ]
        }
      ]
    },
    {
      "cell_type": "code",
      "metadata": {
        "colab": {
          "base_uri": "https://localhost:8080/"
        },
        "id": "hNwhB-X06JMg",
        "outputId": "f258ab47-99a1-4649-86ef-ceefbd5f738a"
      },
      "source": [
        "recommend('Anne of the Island', n_values=6)"
      ],
      "execution_count": 73,
      "outputs": [
        {
          "output_type": "stream",
          "name": "stdout",
          "text": [
            "The Top 5 Recommendations for Users who have read book Anne of the Island are shown below:-\n",
            "1: Anne of Avonlea (Anne of Green Gables Novels (Paperback)), with distance of 0.4255730420964473.\n",
            "2: Rilla of Ingleside (Anne of Green Gables Novels (Paperback)), with distance of 0.4314647563850388.\n",
            "3: Anne of Ingleside (Anne of Green Gables Novels (Paperback)), with distance of 0.43305329048615926.\n",
            "4: Anne's House of Dreams, with distance of 0.4444444444444443.\n",
            "5: Anne of Windy Poplars (Anne of Green Gables Novels (Paperback)), with distance of 0.4522774424948339.\n"
          ]
        }
      ]
    },
    {
      "cell_type": "code",
      "metadata": {
        "colab": {
          "base_uri": "https://localhost:8080/"
        },
        "id": "tl6Cw4Zm6jCC",
        "outputId": "83c8593f-506a-4604-95e3-66593f371720"
      },
      "source": [
        "recommend(\"The Hobbit\", n_values=9)"
      ],
      "execution_count": 74,
      "outputs": [
        {
          "output_type": "stream",
          "name": "stdout",
          "text": [
            "The Top 8 Recommendations for Users who have read book The Hobbit are shown below:-\n",
            "1: Perfume: The Ultimate Guide to the World's Finest Fragrances, with distance of 0.7051160876902057.\n",
            "2: Collectible Miniature Perfume Bottles (Collectibles (Flammarion)), with distance of 0.7051160876902057.\n",
            "3: Wait,  Wait...Don't Tell Me! : The Oddly Informative News Quiz, with distance of 0.7051160876902057.\n",
            "4: HTML : The Definitive Guide, 3rd Edition, with distance of 0.7592282938284616.\n",
            "5: Captains' Logs: The Unauthorized Complete Trek Voyages, with distance of 0.7914855859429253.\n",
            "6: Peanuts: A Golden Celebration : The Art and the Story of the World's Best-Loved Comic Strip, with distance of 0.7914855859429253.\n",
            "7: Guide to Naturalization Records of the United States, with distance of 0.7914855859429253.\n",
            "8: The World Factbook 1997-98 (Cloth), with distance of 0.7914855859429253.\n"
          ]
        }
      ]
    },
    {
      "cell_type": "code",
      "metadata": {
        "id": "IVWwXGi1_rjs"
      },
      "source": [
        "import pickle\n",
        "pickle.dump(df_Knn,open('df_final.pkl','wb'))\n",
        "pickle.dump(model_knn,open('similarity.pkl','wb'))"
      ],
      "execution_count": 76,
      "outputs": []
    },
    {
      "cell_type": "code",
      "metadata": {
        "id": "aLcVRU8SlcpC"
      },
      "source": [
        "# query_index = np.random.choice(df_final.shape[0])\n",
        "# print(query_index)\n",
        "# query_index = 446\n",
        "# distances, indices = model_knn.kneighbors(df_final.iloc[query_index,:].values.reshape(1, -1), n_neighbors = 5)"
      ],
      "execution_count": null,
      "outputs": []
    },
    {
      "cell_type": "code",
      "metadata": {
        "id": "-dzg9fRztkqs"
      },
      "source": [
        "# So the randomly selected user's book preferences are shown below\n",
        "# df_final.iloc[query_index,:]"
      ],
      "execution_count": null,
      "outputs": []
    },
    {
      "cell_type": "code",
      "metadata": {
        "id": "VluSZ3-ftklR"
      },
      "source": [
        "# This shows us the top 10 book indices that are closest to our randomly selected user.\n",
        "# indices.flatten()"
      ],
      "execution_count": null,
      "outputs": []
    },
    {
      "cell_type": "code",
      "metadata": {
        "id": "WOXCq4swtkPl"
      },
      "source": [
        "# # This shows the distances of the corresponding closest recommendations for our randomly selected movie.\n",
        "# distances.flatten()"
      ],
      "execution_count": null,
      "outputs": []
    },
    {
      "cell_type": "code",
      "metadata": {
        "id": "SjDeaNy1t53Y"
      },
      "source": [
        "# for i in range(0, len(distances.flatten())):\n",
        "#     if i == 0:\n",
        "#         print(f'The Top 10 Recommendations for Users who have read book {df_final.index[query_index]} are shown below:-')\n",
        "#     else:\n",
        "#         print('{0}: {1}, with distance of {2}.'.format(i, df_final.index[indices.flatten()[i]], distances.flatten()[i]))"
      ],
      "execution_count": null,
      "outputs": []
    }
  ]
}